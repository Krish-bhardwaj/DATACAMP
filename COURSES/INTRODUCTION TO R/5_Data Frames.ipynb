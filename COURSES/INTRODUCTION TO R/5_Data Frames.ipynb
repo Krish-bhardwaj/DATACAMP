{
 "cells": [
  {
   "cell_type": "markdown",
   "id": "88eae421",
   "metadata": {},
   "source": [
    "# 5. Data frames\n",
    "\n",
    ">Most datasets you will be working with will be stored as data frames. By the end of this chapter, you will be able to create a data frame, select interesting parts of a data frame, and order a data frame according to certain variables.\n",
    "\n",
    "1. What's a data frame?\n",
    "2. Quick, have a look at your dataset\n",
    "3. Have a look at the structure\n",
    "4. Creating a data frame\n",
    "5. Creating a data frame (2)\n",
    "6. Selection of data frame elements\n",
    "7. Selection of data frame elements (2)\n",
    "8. Only planets with rings\n",
    "9. Only planets with rings (2)\n",
    "10. Only planets with rings but shorter\n",
    "11. Sorting\n",
    "12. Sorting your data frame\n"
   ]
  },
  {
   "cell_type": "markdown",
   "id": "98700fab",
   "metadata": {},
   "source": [
    "#### 1. What's a data frame?\n",
    "You may remember from the chapter about matrices that all the elements that you put in a matrix should be of the same type. Back then, your dataset on Star Wars only contained numeric elements.\n",
    "\n",
    "When doing a market research survey, however, you often have questions such as:\n",
    "\n",
    "-   'Are you married?' or 'yes/no' questions (`logical`)\n",
    "-   'How old are you?' (`numeric`)\n",
    "-   'What is your opinion on this product?' or other 'open-ended' questions (`character`)\n",
    "-   …\n",
    "\n",
    "The output, namely the respondents' answers to the questions formulated above, is a dataset of different data types. You will often find yourself working with datasets that contain different data types instead of only one.\n",
    "\n",
    "A data frame has the variables of a dataset as columns and the observations as rows. This will be a familiar concept for those coming from different statistical software packages such as SAS or SPSS.\n",
    "\n",
    "##### Instructions\n",
    "\n",
    "Submit the answer. The data from the built-in example data frame [`mtcars`](http://www.rdocumentation.org/packages/datasets/functions/mtcars) will be printed to the console.\n"
   ]
  },
  {
   "cell_type": "code",
   "execution_count": null,
   "id": "82d3e334",
   "metadata": {},
   "outputs": [],
   "source": [
    "# Print out built-in R data frame\n",
    "mtcars "
   ]
  },
  {
   "cell_type": "markdown",
   "id": "e24c7207",
   "metadata": {},
   "source": [
    "#### 2. Quick, have a look at your dataset\n",
    "Wow, that is a lot of cars!\n",
    "\n",
    "Working with large datasets is not uncommon in data analysis. When you work with (extremely) large datasets and data frames, your first task as a data analyst is to develop a clear understanding of its structure and main elements. Therefore, it is often useful to show only a small part of the entire dataset.\n",
    "\n",
    "So how to do this in R? Well, the function [`head()`](http://www.rdocumentation.org/packages/utils/functions/head) enables you to show the first observations of a data frame. Similarly, the function [`tail()`](http://www.rdocumentation.org/packages/utils/functions/head) prints out the last observations in your dataset.\n",
    "\n",
    "Both [`head()`](http://www.rdocumentation.org/packages/utils/functions/head) and [`tail()`](http://www.rdocumentation.org/packages/utils/functions/head) print a top line called the 'header', which contains the names of the different variables in your dataset.\n",
    "\n",
    "##### Instructions\n",
    "Call [`head()`](http://www.rdocumentation.org/packages/utils/functions/head) on the [`mtcars`](http://www.rdocumentation.org/packages/datasets/functions/mtcars) dataset to have a look at the header and the first observations.\n"
   ]
  },
  {
   "cell_type": "code",
   "execution_count": null,
   "id": "9fd64fb7",
   "metadata": {},
   "outputs": [],
   "source": [
    "# Call head() on mtcars\n",
    "head(mtcars)"
   ]
  },
  {
   "cell_type": "markdown",
   "id": "8bb7fa72",
   "metadata": {},
   "source": [
    "#### 3. Have a look at the structure\n",
    "Another method that is often used to get a rapid overview of your data is the function [`str()`](http://www.rdocumentation.org/packages/utils/functions/str). The function [`str()`](http://www.rdocumentation.org/packages/utils/functions/str) shows you the structure of your dataset. For a data frame it tells you:\n",
    "\n",
    "-   The total number of observations (e.g. 32 car types)\n",
    "-   The total number of variables (e.g. 11 car features)\n",
    "-   A full list of the variables names (e.g. `mpg`, `cyl` … )\n",
    "-   The data type of each variable (e.g. `num`)\n",
    "-   The first observations\n",
    "\n",
    "Applying the [`str()`](http://www.rdocumentation.org/packages/utils/functions/str) function will often be the first thing that you do when receiving a new dataset or data frame. It is a great way to get more insight in your dataset before diving into the real analysis.\n",
    "\n",
    "##### Instructions\n",
    "Investigate the structure of [`mtcars`](http://www.rdocumentation.org/packages/datasets/functions/mtcars). Make sure that you see the same numbers, variables and data types as mentioned above."
   ]
  },
  {
   "cell_type": "code",
   "execution_count": null,
   "id": "2680bab8",
   "metadata": {},
   "outputs": [],
   "source": [
    "# Investigate the structure of mtcars\n",
    "str(mtcars)"
   ]
  },
  {
   "cell_type": "markdown",
   "id": "58f66077",
   "metadata": {},
   "source": [
    "#### 4. Creating a data frame\n",
    "Since using built-in datasets is not even half the fun of creating your own datasets, the rest of this chapter is based on your personally developed dataset. Put your jet pack on because it is time for some space exploration!\n",
    "\n",
    "As a first goal, you want to construct a data frame that describes the main characteristics of eight planets in our solar system. According to your good friend Buzz, the main features of a planet are:\n",
    "\n",
    "-   The type of planet (Terrestrial or Gas Giant).\n",
    "-   The planet's diameter relative to the diameter of the Earth.\n",
    "-   The planet's rotation across the sun relative to that of the Earth.\n",
    "-   If the planet has rings or not (TRUE or FALSE).\n",
    "\n",
    "After doing some high-quality research on [Wikipedia](https://en.wikipedia.org/wiki/Planet), you feel confident enough to create the necessary vectors: `name`, `type`, `diameter`, `rotation` and `rings`; these vectors have already been coded up in the editor. The first element in each of these vectors correspond to the first observation.\n",
    "\n",
    "You construct a data frame with the [`data.frame()`](https://www.rdocumentation.org/packages/base/versions/3.6.2/topics/data.frame) function. As arguments, you pass the vectors from before: they will become the different columns of your data frame. Because every column has the same length, the vectors you pass should also have the same length. But don't forget that it is possible (and likely) that they contain different types of data.\n",
    "\n",
    "##### Instructions\n",
    "Use the function [`data.frame()`](https://www.rdocumentation.org/packages/base/versions/3.6.2/topics/data.frame) to construct a data frame. Pass the vectors `name`, `type`, `diameter`, `rotation` and `rings` as arguments to `data.frame()`, in this order. Call the resulting data frame `planets_df`.\n"
   ]
  },
  {
   "cell_type": "code",
   "execution_count": null,
   "id": "14070ead",
   "metadata": {},
   "outputs": [],
   "source": [
    "# Definition of vectors\n",
    "name <- c(\"Mercury\", \"Venus\", \"Earth\", \n",
    "          \"Mars\", \"Jupiter\", \"Saturn\", \n",
    "          \"Uranus\", \"Neptune\")\n",
    "type <- c(\"Terrestrial planet\", \n",
    "          \"Terrestrial planet\", \n",
    "          \"Terrestrial planet\", \n",
    "          \"Terrestrial planet\", \"Gas giant\", \n",
    "          \"Gas giant\", \"Gas giant\", \"Gas giant\")\n",
    "diameter <- c(0.382, 0.949, 1, 0.532, \n",
    "              11.209, 9.449, 4.007, 3.883)\n",
    "rotation <- c(58.64, -243.02, 1, 1.03,\n",
    "              0.41, 0.43, -0.72, 0.67)\n",
    "rings <- c(FALSE, FALSE, FALSE, FALSE, TRUE, TRUE, TRUE, TRUE)\n",
    "# Create a data frame from the vectors\n",
    "planets_df <- data.frame(name, type, diameter, rotation, rings)"
   ]
  },
  {
   "cell_type": "markdown",
   "id": "30852462",
   "metadata": {},
   "source": [
    "#### 5. Creating a data frame (2)\n",
    "The `planets_df` data frame should have 8 observations and 5 variables. It has been made available in the workspace, so you can directly use it.\n",
    "\n",
    "##### Instructions\n",
    "\n",
    "Use [`str()`](http://www.rdocumentation.org/packages/utils/functions/str) to investigate the structure of the new `planets_df` variable."
   ]
  },
  {
   "cell_type": "code",
   "execution_count": null,
   "id": "bb31461f",
   "metadata": {},
   "outputs": [],
   "source": [
    "# Check the structure of planets_df\n",
    "str(planets_df)"
   ]
  },
  {
   "cell_type": "markdown",
   "id": "7e70ad3b",
   "metadata": {},
   "source": [
    "#### 6. Selection of data frame elements\n",
    "Similar to vectors and matrices, you select elements from a data frame with the help of square brackets `[ ]`. By using a comma, you can indicate what to select from the rows and the columns respectively. For example:\n",
    "\n",
    "-   `my_df[1,2]` selects the value at the first row and second column in `my_df`.\n",
    "-   `my_df[1:3,2:4]` selects rows 1, 2, 3 and columns 2, 3, 4 in `my_df`.\n",
    "\n",
    "Sometimes you want to select all elements of a row or column. For example, `my_df[1, ]` selects all elements of the first row. Let us now apply this technique on `planets_df`!\n",
    "\n",
    "##### Instructions\n",
    "\n",
    "-   From `planets_df`, select the diameter of Mercury: this is the value at the first row and the third column. Simply print out the result.\n",
    "-   From `planets_df`, select all data on Mars (the fourth row). Simply print out the result."
   ]
  },
  {
   "cell_type": "code",
   "execution_count": null,
   "id": "3701db5f",
   "metadata": {},
   "outputs": [],
   "source": [
    "# The planets_df data frame from the previous exercise is pre-loaded\n",
    "# Print out diameter of Mercury (row 1, column 3)\n",
    "planets_df[1,3]\n",
    "# Print out data for Mars (entire fourth row)\n",
    "planets_df[4, ]"
   ]
  },
  {
   "cell_type": "markdown",
   "id": "b8d37a9b",
   "metadata": {},
   "source": [
    "#### 7. Selection of data frame elements (2)\n",
    "Instead of using numerics to select elements of a data frame, you can also use the variable names to select columns of a data frame.\n",
    "\n",
    "Suppose you want to select the first three elements of the `type` column. One way to do this is\n",
    "\n",
    "```\n",
    "planets_df[1:3,2]\n",
    "```\n",
    "\n",
    "A possible disadvantage of this approach is that you have to know (or look up) the column number of `type`, which gets hard if you have a lot of variables. It is often easier to just make use of the variable name:\n",
    "\n",
    "```\n",
    "planets_df[1:3,\"type\"]\n",
    "```\n",
    "\n",
    "##### Instructions\n",
    "\n",
    "Select and print out the first 5 values in the `\"diameter\"` column of `planets_df`."
   ]
  },
  {
   "cell_type": "code",
   "execution_count": null,
   "id": "f93f4a53",
   "metadata": {},
   "outputs": [],
   "source": [
    "# The planets_df data frame from the previous exercise is pre-loaded\n",
    "# Select first 5 values of diameter column\n",
    "planets_df[1:5, \"diameter\"]"
   ]
  },
  {
   "cell_type": "markdown",
   "id": "54ba995b",
   "metadata": {},
   "source": [
    "#### 8. Only planets with rings\n",
    "You will often want to select an entire column, namely one specific variable from a data frame. If you want to select all elements of the variable `diameter`, for example, both of these will do the trick:\n",
    "\n",
    "```\n",
    "planets_df[,3]\n",
    "planets_df[,\"diameter\"]\n",
    "```\n",
    "\n",
    "However, there is a short-cut. If your columns have names, you can use the `$` sign:\n",
    "\n",
    "```\n",
    "planets_df$diameter\n",
    "```\n",
    "\n",
    "##### Instructions\n",
    "\n",
    "-   Use the `$` sign to select the `rings` variable from `planets_df`. Store the vector that results as `rings_vector`.\n",
    "-   Print out `rings_vector` to see if you got it right."
   ]
  },
  {
   "cell_type": "code",
   "execution_count": null,
   "id": "9506d0c5",
   "metadata": {},
   "outputs": [],
   "source": [
    "# planets_df is pre-loaded in your workspace\n",
    "# Select the rings variable from planets_df\n",
    "rings_vector <- planets_df$rings\n",
    "# Print out rings_vector\n",
    "rings_vector"
   ]
  },
  {
   "cell_type": "markdown",
   "id": "9169d62e",
   "metadata": {},
   "source": [
    "#### 9. Only planets with rings (2)\n",
    "You probably remember from high school that some planets in our solar system have rings and others do not. Unfortunately you can not recall their names. Could R help you out?\n",
    "\n",
    "If you type `rings_vector` in the console, you get:\n",
    "\n",
    "```\n",
    "[1] FALSE FALSE FALSE FALSE  TRUE  TRUE  TRUE  TRUE\n",
    "```\n",
    "\n",
    "This means that the first four observations (or planets) do not have a ring (`FALSE`), but the other four do (`TRUE`). However, you do not get a nice overview of the names of these planets, their diameter, etc. Let's try to use `rings_vector` to select the data for the four planets with rings.\n",
    "\n",
    "##### Instructions\n",
    "\n",
    "\n",
    "The code in the editor selects the `name` column of all planets that have rings. Adapt the code so that instead of only the `name` column, _all_ columns for planets that have rings are selected."
   ]
  },
  {
   "cell_type": "code",
   "execution_count": null,
   "id": "92ae738c",
   "metadata": {},
   "outputs": [],
   "source": [
    "# planets_df and rings_vector are pre-loaded in your workspace\n",
    "# Adapt the code to select all columns for planets with rings\n",
    "planets_df[rings_vector, ]"
   ]
  },
  {
   "cell_type": "markdown",
   "id": "7b3bea25",
   "metadata": {},
   "source": [
    "#### 10. Only planets with rings but shorter\n",
    "So what exactly did you learn in the previous exercises? You selected a subset from a data frame (`planets_df`) based on whether or not a certain condition was true (rings or no rings), and you managed to pull out all relevant data. Pretty awesome! By now, NASA is probably already flirting with your CV ;-).\n",
    "\n",
    "Now, let us move up one level and use the function [`subset()`](http://www.rdocumentation.org/packages/base/functions/subset). You should see the [`subset()`](http://www.rdocumentation.org/packages/base/functions/subset) function as a short-cut to do exactly the same as what you did in the previous exercises.\n",
    "\n",
    "```\n",
    "subset(my_df, subset = some_condition)\n",
    "```\n",
    "\n",
    "The first argument of [`subset()`](http://www.rdocumentation.org/packages/base/functions/subset) specifies the dataset for which you want a subset. By adding the second argument, you give R the necessary information and conditions to select the correct subset.\n",
    "\n",
    "The code below will give the exact same result as you got in the previous exercise, but this time, you didn't need the `rings_vector`!\n",
    "\n",
    "```\n",
    "subset(planets_df, subset = rings)\n",
    "```\n",
    "\n",
    "##### Instructions\n",
    "\n",
    "\n",
    "Use `subset()` on `planets_df` to select planets that have a diameter smaller than Earth. Because the `diameter` variable is a relative measure of the planet's diameter w.r.t that of planet Earth, your condition is `diameter < 1`.\n"
   ]
  },
  {
   "cell_type": "code",
   "execution_count": null,
   "id": "f9c74fef",
   "metadata": {},
   "outputs": [],
   "source": [
    "# planets_df is pre-loaded in your workspace\n",
    "# Select planets with diameter < 1\n",
    "subset(planets_df, subset = diameter < 1)"
   ]
  },
  {
   "cell_type": "markdown",
   "id": "f272cb51",
   "metadata": {},
   "source": [
    "#### 11. Sorting\n",
    "Making and creating rankings is one of mankind's favorite affairs. These rankings can be useful (best universities in the world), entertaining (most influential movie stars) or pointless (best 007 look-a-like).\n",
    "\n",
    "In data analysis you can sort your data according to a certain variable in the dataset. In R, this is done with the help of the function [`order()`](http://www.rdocumentation.org/packages/base/functions/order).\n",
    "\n",
    "[`order()`](http://www.rdocumentation.org/packages/base/functions/order) is a function that gives you the ranked position of each element when it is applied on a variable, such as a vector for example:\n",
    "\n",
    "```\n",
    "a <- c(100, 10, 1000)\n",
    "order(a)\n",
    "[1] 2 1 3\n",
    "```\n",
    "\n",
    "10, which is the second element in `a`, is the smallest element, so 2 comes first in the output of `order(a)`. 100, which is the first element in `a` is the second smallest element, so 1 comes second in the output of `order(a)`.\n",
    "\n",
    "This means we can use the output of `order(a)` to reshuffle `a`:\n",
    "\n",
    "```\n",
    "a[order(a)]\n",
    "[1]   10  100 1000\n",
    "```\n",
    "\n",
    "##### Instructions\n",
    "\n",
    "Experiment with the [`order()`](http://www.rdocumentation.org/packages/base/functions/order) function in the console. Submit the answer when you are ready to continue.\n"
   ]
  },
  {
   "cell_type": "code",
   "execution_count": null,
   "id": "766a07c1",
   "metadata": {},
   "outputs": [],
   "source": [
    "# Play around with the order function in the console"
   ]
  },
  {
   "cell_type": "markdown",
   "id": "e2cf7bfc",
   "metadata": {},
   "source": [
    "#### 12. Sorting your data frame\n",
    "Alright, now that you understand the [`order()`](http://www.rdocumentation.org/packages/base/functions/order) function, let us do something useful with it. You would like to rearrange your data frame such that it starts with the smallest planet and ends with the largest one. A sort on the `diameter` column.\n",
    "\n",
    "##### Instructions\n",
    "-   Call `order()` on `planets_df$diameter` (the `diameter` column of `planets_df`). Store the result as `positions`.\n",
    "-   Now reshuffle `planets_df` with the `positions` vector as row indexes inside square brackets. Keep all columns. Simply print out the result.\n"
   ]
  },
  {
   "cell_type": "code",
   "execution_count": null,
   "id": "7af21783",
   "metadata": {},
   "outputs": [],
   "source": [
    "# planets_df is pre-loaded in your workspace\n",
    "# Use order() to create positions\n",
    "positions <- order(planets_df$diameter)\n",
    "# Use positions to sort planets_df\n",
    "planets_df[positions, ]"
   ]
  }
 ],
 "metadata": {
  "kernelspec": {
   "display_name": "R",
   "language": "R",
   "name": "ir"
  },
  "language_info": {
   "codemirror_mode": "r",
   "file_extension": ".r",
   "mimetype": "text/x-r-source",
   "name": "R",
   "pygments_lexer": "r",
   "version": "3.6.1"
  }
 },
 "nbformat": 4,
 "nbformat_minor": 5
}
