{
 "cells": [
  {
   "cell_type": "markdown",
   "id": "ef107b33",
   "metadata": {},
   "source": [
    "# 1. Intro to basics\n",
    "\n",
    ">Take your first steps with R. In this chapter, you will learn how to use the console as a calculator and how to assign variables. You will also get to know the basic data types in R. Let's get started.\n",
    "\n",
    "1. How it works\n",
    "- Arithmetic with R\n",
    "- Variable assignment\n",
    "- Variable assignment (2)\n",
    "- Variable assignment (3)\n",
    "- Apples and oranges\n",
    "- Basic data types in R\n",
    "- What's that data type?\n",
    "\n",
    "---"
   ]
  },
  {
   "cell_type": "markdown",
   "id": "c06643fe",
   "metadata": {},
   "source": [
    "#### 1. How it works\n",
    "\n",
    "In the editor on the right you should type R code to solve the exercises. When you hit the 'Submit Answer' button, every line of code is interpreted and executed by R and you get a message whether or not your code was correct. The output of your R code is shown in the console in the lower right corner.\n",
    "\n",
    "R makes use of the `#` sign to add comments, so that you and others can understand what the R code is about. Just like Twitter! Comments are not run as R code, so they will not influence your result. For example, _Calculate 3 + 4_ in the editor on the right is a comment.\n",
    "\n",
    "You can also execute R commands straight in the console. This is a good way to experiment with R code, as your submission is not checked for correctness.\n",
    "\n",
    "##### Instructions\n",
    "\n",
    "-   In the editor on the right there is already some sample code. Can you see which lines are actual R code and which are comments?\n",
    "-   Add a line of code that calculates the sum of 6 and 12, and hit the 'Submit Answer' button.\n",
    "\n"
   ]
  },
  {
   "cell_type": "code",
   "execution_count": 1,
   "id": "40519e1c",
   "metadata": {},
   "outputs": [
    {
     "data": {
      "text/html": [
       "7"
      ],
      "text/latex": [
       "7"
      ],
      "text/markdown": [
       "7"
      ],
      "text/plain": [
       "[1] 7"
      ]
     },
     "metadata": {},
     "output_type": "display_data"
    },
    {
     "data": {
      "text/html": [
       "18"
      ],
      "text/latex": [
       "18"
      ],
      "text/markdown": [
       "18"
      ],
      "text/plain": [
       "[1] 18"
      ]
     },
     "metadata": {},
     "output_type": "display_data"
    }
   ],
   "source": [
    "# Calculate 3 + 4\n",
    "3 + 4\n",
    "\n",
    "# Calculate 6 + 12\n",
    "6 + 12"
   ]
  },
  {
   "cell_type": "markdown",
   "id": "16adb7d2",
   "metadata": {},
   "source": [
    "#### 2. Arithmetic with R\n",
    "\n",
    "In its most basic form, R can be used as a simple calculator. Consider the following arithmetic operators:\n",
    "\n",
    "-   Addition: `+`\n",
    "-   Subtraction: `-`\n",
    "-   Multiplication: `*`\n",
    "-   Division: `/`\n",
    "-   Exponentiation: `^`\n",
    "-   Modulo: `%%`\n",
    "\n",
    "The last two might need some explaining:\n",
    "\n",
    "-   The `^` operator raises the number to its left to the power of the number to its right: for example `3^2` is 9.\n",
    "-   The modulo returns the remainder of the division of the number to the left by the number on its right, for example 5 modulo 3 or `5 %% 3` is 2.\n",
    "\n",
    "With this knowledge, follow the instructions to complete the exercise.\n",
    "\n",
    "##### Instructions\n",
    "\n",
    "-   Type `2^5` in the editor to calculate 2 to the power 5.\n",
    "-   Type `28 %% 6` to calculate 28 modulo 6.\n",
    "-   Submit the answer and have a look at the R output in the console.\n",
    "-   Note how the `#` symbol is used to add comments on the R code.\n"
   ]
  },
  {
   "cell_type": "code",
   "execution_count": 2,
   "id": "21cc830a",
   "metadata": {},
   "outputs": [
    {
     "data": {
      "text/html": [
       "10"
      ],
      "text/latex": [
       "10"
      ],
      "text/markdown": [
       "10"
      ],
      "text/plain": [
       "[1] 10"
      ]
     },
     "metadata": {},
     "output_type": "display_data"
    },
    {
     "data": {
      "text/html": [
       "0"
      ],
      "text/latex": [
       "0"
      ],
      "text/markdown": [
       "0"
      ],
      "text/plain": [
       "[1] 0"
      ]
     },
     "metadata": {},
     "output_type": "display_data"
    },
    {
     "data": {
      "text/html": [
       "15"
      ],
      "text/latex": [
       "15"
      ],
      "text/markdown": [
       "15"
      ],
      "text/plain": [
       "[1] 15"
      ]
     },
     "metadata": {},
     "output_type": "display_data"
    },
    {
     "data": {
      "text/html": [
       "5"
      ],
      "text/latex": [
       "5"
      ],
      "text/markdown": [
       "5"
      ],
      "text/plain": [
       "[1] 5"
      ]
     },
     "metadata": {},
     "output_type": "display_data"
    },
    {
     "data": {
      "text/html": [
       "32"
      ],
      "text/latex": [
       "32"
      ],
      "text/markdown": [
       "32"
      ],
      "text/plain": [
       "[1] 32"
      ]
     },
     "metadata": {},
     "output_type": "display_data"
    },
    {
     "data": {
      "text/html": [
       "4"
      ],
      "text/latex": [
       "4"
      ],
      "text/markdown": [
       "4"
      ],
      "text/plain": [
       "[1] 4"
      ]
     },
     "metadata": {},
     "output_type": "display_data"
    }
   ],
   "source": [
    "# An addition\n",
    "5 + 5 \n",
    "\n",
    "# A subtraction\n",
    "5 - 5 \n",
    "\n",
    "# A multiplication\n",
    "3 * 5\n",
    "\n",
    " # A division\n",
    "(5 + 5) / 2 \n",
    "\n",
    "# Exponentiation\n",
    "2 ^ 5\n",
    "\n",
    "# Modulo\n",
    "28 %% 6"
   ]
  },
  {
   "cell_type": "markdown",
   "id": "f89f7dda",
   "metadata": {},
   "source": [
    "#### 3. Variable assignment\n",
    "\n",
    "A basic concept in (statistical) programming is called a **variable**.\n",
    "\n",
    "A variable allows you to store a value (e.g. 4) or an object (e.g. a function description) in R. You can then later use this variable's name to easily access the value or the object that is stored within this variable.\n",
    "\n",
    "You can assign a value 4 to a variable `my_var` with the command\n",
    "\n",
    "```\n",
    "my_var <- 4\n",
    "```\n",
    "\n",
    "##### Instructions\n",
    "\n",
    "Over to you: complete the code in the editor such that it assigns the value 42 to the variable `x` in the editor. Submit the answer. Notice that when you ask R to print `x`, the value 42 appears."
   ]
  },
  {
   "cell_type": "code",
   "execution_count": 3,
   "id": "58cfc15c",
   "metadata": {},
   "outputs": [
    {
     "data": {
      "text/html": [
       "42"
      ],
      "text/latex": [
       "42"
      ],
      "text/markdown": [
       "42"
      ],
      "text/plain": [
       "[1] 42"
      ]
     },
     "metadata": {},
     "output_type": "display_data"
    }
   ],
   "source": [
    "# Assign the value 42 to x\n",
    "x <- 42\n",
    "\n",
    "# Print out the value of the variable x\n",
    "x"
   ]
  },
  {
   "cell_type": "markdown",
   "id": "429c1f76",
   "metadata": {},
   "source": [
    "#### 4. Variable assignment (2)\n",
    "\n",
    "Suppose you have a fruit basket with five apples. As a data analyst in training, you want to store the number of apples in a variable with the name `my_apples`.\n",
    "\n",
    "##### Instructions\n",
    "\n",
    "-   Type the following code in the editor: `my_apples <- 5`. This will assign the value 5 to `my_apples`.\n",
    "-   Type: `my_apples` below the second comment. This will print out the value of `my_apples`.\n",
    "-   Submit your answer, and look at the output: you see that the number 5 is printed. So R now links the variable `my_apples` to the value 5."
   ]
  },
  {
   "cell_type": "code",
   "execution_count": 4,
   "id": "c7339e1c",
   "metadata": {},
   "outputs": [
    {
     "data": {
      "text/html": [
       "5"
      ],
      "text/latex": [
       "5"
      ],
      "text/markdown": [
       "5"
      ],
      "text/plain": [
       "[1] 5"
      ]
     },
     "metadata": {},
     "output_type": "display_data"
    }
   ],
   "source": [
    "# Assign the value 5 to the variable my_apples\n",
    "my_apples <- 5\n",
    "\n",
    "# Print out the value of the variable my_apples\n",
    "my_apples"
   ]
  },
  {
   "cell_type": "markdown",
   "id": "081a464a",
   "metadata": {},
   "source": [
    "#### 5. Variable assignment (3)\n",
    "\n",
    "Every tasty fruit basket needs oranges, so you decide to add six oranges. As a data analyst, your reflex is to immediately create the variable `my_oranges` and assign the value 6 to it. Next, you want to calculate how many pieces of fruit you have in total. Since you have given meaningful names to these values, you can now code this in a clear way:\n",
    "\n",
    "```\n",
    "my_apples + my_oranges\n",
    "```\n",
    "\n",
    "##### Instructions\n",
    "\n",
    "-   Assign to `my_oranges` the value 6.\n",
    "-   Add the variables `my_apples` and `my_oranges` and have R simply print the result.\n",
    "-   Assign the result of adding `my_apples` and `my_oranges` to a new variable `my_fruit`."
   ]
  },
  {
   "cell_type": "code",
   "execution_count": 5,
   "id": "1ac1b2d6",
   "metadata": {},
   "outputs": [
    {
     "data": {
      "text/html": [
       "11"
      ],
      "text/latex": [
       "11"
      ],
      "text/markdown": [
       "11"
      ],
      "text/plain": [
       "[1] 11"
      ]
     },
     "metadata": {},
     "output_type": "display_data"
    }
   ],
   "source": [
    "# Assign a value to the variables my_apples and my_oranges\n",
    "my_apples <- 5\n",
    "my_oranges <- 6\n",
    "\n",
    "# Add these two variables together\n",
    "my_fruit <- my_apples + my_oranges\n",
    "\n",
    "# Create the variable my_fruit\n",
    "my_fruit"
   ]
  },
  {
   "cell_type": "markdown",
   "id": "97fc3b3c",
   "metadata": {},
   "source": [
    "#### 6. Apples and oranges\n",
    "\n",
    "Common knowledge tells you not to add apples and oranges. But hey, that is what you just did, no :-)? The `my_apples` and `my_oranges` variables both contained a number in the previous exercise. The `+` operator works with numeric variables in R. If you really tried to add \"apples\" and \"oranges\", and assigned a text value to the variable `my_oranges` (see the editor), you would be trying to assign the addition of a numeric and a character variable to the variable `my_fruit`. This is not possible.\n",
    "\n",
    "##### Instructions\n",
    "\n",
    "-   Submit the answer and read the error message. Make sure to understand why this did not work.\n",
    "-   Adjust the code so that R knows you have 6 oranges and thus a fruit basket with 11 pieces of fruit."
   ]
  },
  {
   "cell_type": "code",
   "execution_count": 7,
   "id": "5a38351e",
   "metadata": {},
   "outputs": [
    {
     "data": {
      "text/html": [
       "11"
      ],
      "text/latex": [
       "11"
      ],
      "text/markdown": [
       "11"
      ],
      "text/plain": [
       "[1] 11"
      ]
     },
     "metadata": {},
     "output_type": "display_data"
    }
   ],
   "source": [
    "# Assign a value to the variable my_apples\n",
    "my_apples <- 5 \n",
    "\n",
    "# Fix the assignment of my_oranges\n",
    "# ERROR : my_oranges <- \"six\"\n",
    "my_oranges <- 6\n",
    "\n",
    "# Create the variable my_fruit and print it out\n",
    "my_fruit <- my_apples + my_oranges \n",
    "my_fruit"
   ]
  },
  {
   "cell_type": "markdown",
   "id": "e38cc132",
   "metadata": {},
   "source": [
    "#### 7. Basic data types in R\n",
    "\n",
    "R works with numerous data types. Some of the most basic types to get started are:\n",
    "-   Decimal values like `4.5` are called **numerics**.\n",
    "-   Whole numbers like `4` are called **integers**. Integers are also numerics.\n",
    "-   Boolean values (`TRUE` or `FALSE`) are called **logical**.\n",
    "-   Text (or string) values are called **characters**.\n",
    "\n",
    "Note how the quotation marks in the editor indicate that `\"some text\"` is a string.\n",
    "\n",
    "##### Instructions\n",
    "\n",
    "Change the value of the:\n",
    "\n",
    "-   `my_numeric` variable to `42`.\n",
    "-   `my_character` variable to `\"universe\"`. Note that the quotation marks indicate that `\"universe\"` is a character.\n",
    "-   `my_logical` variable to `FALSE`.\n",
    "\n",
    "Note that R is case sensitive!\n"
   ]
  },
  {
   "cell_type": "code",
   "execution_count": 8,
   "id": "3582f207",
   "metadata": {},
   "outputs": [],
   "source": [
    "# Change my_numeric to be 42\n",
    "# my_numeric <- 42.5\n",
    "my_numeric <- 42\n",
    "\n",
    "# Change my_character to be \"universe\"\n",
    "# my_character <- \"some text\"\n",
    "my_character <- \"universe\"\n",
    "\n",
    "# Change my_logical to be FALSE\n",
    "# my_logical <- TRUE\n",
    "my_logical <- FALSE"
   ]
  },
  {
   "cell_type": "markdown",
   "id": "bfc1d7dd",
   "metadata": {},
   "source": [
    "#### 8. What's that data type?\n",
    "\n",
    "Do you remember that when you added `5 + \"six\"`, you got an error due to a mismatch in data types? You can avoid such embarrassing situations by checking the data type of a variable beforehand. You can do this with the `class()` function, as the code in the editor shows.\n",
    "\n",
    "##### Instructions\n",
    "\n",
    "Complete the code in the editor and also print out the classes of `my_character` and `my_logical`."
   ]
  },
  {
   "cell_type": "code",
   "execution_count": 9,
   "id": "593d8580",
   "metadata": {},
   "outputs": [
    {
     "data": {
      "text/html": [
       "'numeric'"
      ],
      "text/latex": [
       "'numeric'"
      ],
      "text/markdown": [
       "'numeric'"
      ],
      "text/plain": [
       "[1] \"numeric\""
      ]
     },
     "metadata": {},
     "output_type": "display_data"
    },
    {
     "data": {
      "text/html": [
       "'character'"
      ],
      "text/latex": [
       "'character'"
      ],
      "text/markdown": [
       "'character'"
      ],
      "text/plain": [
       "[1] \"character\""
      ]
     },
     "metadata": {},
     "output_type": "display_data"
    },
    {
     "data": {
      "text/html": [
       "'logical'"
      ],
      "text/latex": [
       "'logical'"
      ],
      "text/markdown": [
       "'logical'"
      ],
      "text/plain": [
       "[1] \"logical\""
      ]
     },
     "metadata": {},
     "output_type": "display_data"
    }
   ],
   "source": [
    "# Declare variables of different types\n",
    "my_numeric <- 42\n",
    "my_character <- \"universe\"\n",
    "my_logical <- FALSE \n",
    "\n",
    "# Check class of my_numeric\n",
    "class(my_numeric)\n",
    "\n",
    "# Check class of my_character\n",
    "class(my_character)\n",
    "\n",
    "# Check class of my_logical\n",
    "class(my_logical)\n"
   ]
  }
 ],
 "metadata": {
  "kernelspec": {
   "display_name": "R",
   "language": "R",
   "name": "ir"
  },
  "language_info": {
   "codemirror_mode": "r",
   "file_extension": ".r",
   "mimetype": "text/x-r-source",
   "name": "R",
   "pygments_lexer": "r",
   "version": "3.6.1"
  }
 },
 "nbformat": 4,
 "nbformat_minor": 5
}
