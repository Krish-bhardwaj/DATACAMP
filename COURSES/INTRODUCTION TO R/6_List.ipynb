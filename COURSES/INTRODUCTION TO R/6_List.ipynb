{
 "cells": [
  {
   "cell_type": "markdown",
   "id": "41ad4873",
   "metadata": {},
   "source": [
    "# 6. Lists\n",
    "\n",
    ">As opposed to vectors, lists can hold components of different types, just as your to-do lists can contain different categories of tasks. This chapter will teach you how to create, name, and subset these lists.\n",
    "\n",
    "1. Lists, why would you need them?\n",
    "2. Lists, why would you need them? (2)\n",
    "3. Creating a list\n",
    "4. Creating a named list\n",
    "5. Creating a named list (2)\n",
    "6. Selecting elements from a list\n",
    "7. Creating a new list for another movie"
   ]
  },
  {
   "cell_type": "markdown",
   "id": "a3ad2790",
   "metadata": {},
   "source": [
    "#### 1. Lists, why would you need them?\n",
    "Congratulations! At this point in the course you are already familiar with:\n",
    "\n",
    "-   **Vectors** (one dimensional array): can hold numeric, character or logical values. The elements in a vector all have the same data type.\n",
    "-   **Matrices** (two dimensional array): can hold numeric, character or logical values. The elements in a matrix all have the same data type.\n",
    "-   **Data frames** (two-dimensional objects): can hold numeric, character or logical values. Within a column all elements have the same data type, but different columns can be of different data type.\n",
    "\n",
    "Pretty sweet for an R newbie, right? ;-)\n",
    "\n",
    "##### Instructions\n",
    "\n",
    "Submit the answer to start learning everything about lists!"
   ]
  },
  {
   "cell_type": "code",
   "execution_count": null,
   "id": "f83f9dbf",
   "metadata": {},
   "outputs": [],
   "source": [
    "# Just submit the answer"
   ]
  },
  {
   "cell_type": "markdown",
   "id": "ed3c9dbf",
   "metadata": {},
   "source": [
    "#### 2. Lists, why would you need them? (2)\n",
    "A **list** in R is similar to your to-do list at work or school: the different items on that list most likely differ in length, characteristic, and type of activity that has to be done.\n",
    "\n",
    "A list in R allows you to gather a variety of objects under one name (that is, the name of the list) in an ordered way. These objects can be matrices, vectors, data frames, even other lists, etc. It is not even required that these objects are related to each other in any way.\n",
    "\n",
    "You could say that a list is some kind super data type: you can store practically any piece of information in it!\n",
    "\n",
    "##### Instructions\n",
    "\n",
    "Just submit the answer to start the first exercise on lists."
   ]
  },
  {
   "cell_type": "code",
   "execution_count": null,
   "id": "aee30161",
   "metadata": {},
   "outputs": [],
   "source": [
    "# Just submit the answer to start the first exercise on lists."
   ]
  },
  {
   "cell_type": "markdown",
   "id": "68ecec4a",
   "metadata": {},
   "source": [
    "\n",
    "#### 3. Creating a list\n",
    "Let us create our first list! To construct a list you use the function [`list()`](http://www.rdocumentation.org/packages/base/functions/list):\n",
    "\n",
    "```\n",
    "my_list <- list(comp1, comp2 ...)\n",
    "```\n",
    "\n",
    "The arguments to the list function are the list components. Remember, these components can be matrices, vectors, other lists, …\n",
    "\n",
    "##### Instructions\n",
    "\n",
    "Construct a list, named `my_list`, that contains the variables `my_vector`, `my_matrix` and `my_df` as list components."
   ]
  },
  {
   "cell_type": "code",
   "execution_count": null,
   "id": "b2b7b020",
   "metadata": {},
   "outputs": [],
   "source": [
    "# Vector with numerics from 1 up to 10\n",
    "my_vector <- 1:10 \n",
    "# Matrix with numerics from 1 up to 9\n",
    "my_matrix <- matrix(1:9, ncol = 3)\n",
    "# First 10 elements of the built-in data frame mtcars\n",
    "my_df <- mtcars[1:10,]\n",
    "# Construct list with these different elements:\n",
    "my_list <- list(my_vector, my_matrix, my_df)"
   ]
  },
  {
   "cell_type": "markdown",
   "id": "ac925395",
   "metadata": {},
   "source": [
    "#### 4. Creating a named list\n",
    "Well done, you're on a roll!\n",
    "\n",
    "Just like on your to-do list, you want to avoid not knowing or remembering what the components of your list stand for. That is why you should give names to them:\n",
    "\n",
    "```\n",
    "my_list <- list(name1 = your_comp1, \n",
    "                name2 = your_comp2)\n",
    "```\n",
    "\n",
    "This creates a list with components that are named `name1`, `name2`, and so on. If you want to name your lists after you've created them, you can use the `names()` function as you did with vectors. The following commands are fully equivalent to the assignment above:\n",
    "\n",
    "```\n",
    "my_list <- list(your_comp1, your_comp2)\n",
    "names(my_list) <- c(\"name1\", \"name2\")\n",
    "```\n",
    "\n",
    "##### Instructions\n",
    "\n",
    "\n",
    "-   Change the code of the previous exercise (see editor) by adding names to the components. Use for `my_vector` the name `vec`, for `my_matrix` the name `mat` and for `my_df` the name `df`.\n",
    "-   Print out `my_list` so you can inspect the output.\n"
   ]
  },
  {
   "cell_type": "code",
   "execution_count": null,
   "id": "e9e7c038",
   "metadata": {},
   "outputs": [],
   "source": [
    "# Vector with numerics from 1 up to 10\n",
    "my_vector <- 1:10 \n",
    "# Matrix with numerics from 1 up to 9\n",
    "my_matrix <- matrix(1:9, ncol = 3)\n",
    "# First 10 elements of the built-in data frame mtcars\n",
    "my_df <- mtcars[1:10,]\n",
    "# Adapt list() call to give the components names\n",
    "my_list <- list(vec = my_vector, mat = my_matrix, df = my_df)\n",
    "# Print out my_list\n",
    "my_list"
   ]
  },
  {
   "cell_type": "markdown",
   "id": "a6e325df",
   "metadata": {},
   "source": [
    "#### 5. Creating a named list (2)\n",
    "Being a huge movie fan (remember your job at LucasFilms), you decide to start storing information on good movies with the help of lists.\n",
    "\n",
    "Start by creating a list for the movie \"The Shining\". We have already created the variables `mov`, `act` and `rev` in your R workspace. Feel free to check them out in the console.\n",
    "\n",
    "##### Instructions\n",
    "\n",
    "Complete the code in the editor to create `shining_list`; it contains three elements:\n",
    "\n",
    "-   `moviename`: a character string with the movie title (stored in `mov`)\n",
    "-   `actors`: a vector with the main actors' names (stored in `act`)\n",
    "-   `reviews`: a data frame that contains some reviews (stored in `rev`)\n",
    "\n",
    "Do not forget to name the list components accordingly (names are `moviename`, `actors` and `reviews`)."
   ]
  },
  {
   "cell_type": "code",
   "execution_count": null,
   "id": "2d930c1e",
   "metadata": {},
   "outputs": [],
   "source": [
    "# The variables mov, act and rev are available\n",
    "# Finish the code to build shining_list\n",
    "shining_list <- list(moviename = mov, actors = act, reviews = rev)"
   ]
  },
  {
   "cell_type": "markdown",
   "id": "2bd41e4a",
   "metadata": {},
   "source": [
    "#### 6. Selecting elements from a list\n",
    "Your list will often be built out of numerous elements and components. Therefore, getting a single element, multiple elements, or a component out of it is not always straightforward.\n",
    "\n",
    "One way to select a component is using the numbered position of that component. For example, to \"grab\" the first component of `shining_list` you type\n",
    "\n",
    "```\n",
    "shining_list[[1]]\n",
    "```\n",
    "\n",
    "A quick way to check this out is typing it in the console. Important to remember: to select elements from vectors, you use single square brackets: `[ ]`. Don't mix them up!\n",
    "\n",
    "You can also refer to the names of the components, with `[[ ]]` or with the `$` sign. Both will select the data frame representing the reviews:\n",
    "\n",
    "```\n",
    "shining_list[[\"reviews\"]]\n",
    "shining_list$reviews\n",
    "```\n",
    "\n",
    "Besides selecting components, you often need to select specific elements out of these components. For example, with `shining_list[[2]][1]` you select from the second component, `actors` (`shining_list[[2]]`), the first element (`[1]`). When you type this in the console, you will see the answer is Jack Nicholson.\n",
    "\n",
    "##### Instructions\n",
    "\n",
    "\n",
    "-   Select from `shining_list` the vector representing the actors. Simply print out this vector.\n",
    "-   Select from `shining_list` the second element in the vector representing the actors. Do a printout like before.\n"
   ]
  },
  {
   "cell_type": "code",
   "execution_count": null,
   "id": "90e5c664",
   "metadata": {},
   "outputs": [],
   "source": [
    "# shining_list is already pre-loaded in the workspace\n",
    "# Print out the vector representing the actors\n",
    "shining_list$actors\n",
    "# Print the second element of the vector representing the actors\n",
    "shining_list$actors[2]"
   ]
  },
  {
   "cell_type": "markdown",
   "id": "cf7d24bc",
   "metadata": {},
   "source": [
    "#### 7. Creating a new list for another movie\n",
    "You found reviews of another, more recent, Jack Nicholson movie: The Departed!\n",
    "\n",
    "Scores\n",
    "\n",
    "Comments\n",
    "\n",
    "4.6\n",
    "\n",
    "I would watch it again\n",
    "\n",
    "5\n",
    "\n",
    "Amazing!\n",
    "\n",
    "4.8\n",
    "\n",
    "I liked it\n",
    "\n",
    "5\n",
    "\n",
    "One of the best movies\n",
    "\n",
    "4.2\n",
    "\n",
    "Fascinating plot\n",
    "\n",
    "It would be useful to collect together all the pieces of information about the movie, like the title, actors, and reviews into a single variable. Since these pieces of data are different shapes, it is natural to combine them in a list variable.\n",
    "\n",
    "`movie_title`, containing the title of the movie, and `movie_actors`, containing the names of some of the actors in the movie, are available in your workspace.\n",
    "\n",
    "##### Instructions\n",
    "\n",
    "\n",
    "-   Create two vectors, called `scores` and `comments`, that contain the information from the reviews shown in the table.\n",
    "-   Find the average of the `scores` vector and save it as `avg_review`.\n",
    "-   Combine the `scores` and `comments` vectors into a data frame called `reviews_df`.\n",
    "-   Create a list, called `departed_list`, that contains the `movie_title`, `movie_actors`, reviews data frame as `reviews_df`, and the average review score as `avg_review`, and print it out."
   ]
  },
  {
   "cell_type": "code",
   "execution_count": null,
   "id": "81c9efbb",
   "metadata": {},
   "outputs": [],
   "source": [
    "# Use the table from the exercise to define the comments and scores vectors\n",
    "scores <- c(4.6, 5, 4.8, 5, 4.2)\n",
    "comments <- c(\"I would watch it again\", \"Amazing!\", \"I liked it\", \"One of the best movies\", \"Fascinating plot\")\n",
    "# Save the average of the scores vector as avg_review\n",
    "avg_review <- mean(scores)\n",
    "# Combine scores and comments into the reviews_df data frame\n",
    "reviews_df <- data.frame(scores, comments)\n",
    "# Create and print out a list, called departed_list\n",
    "departed_list <- list(movie_title, movie_actors, reviews_df, avg_review)\n",
    "departed_list"
   ]
  }
 ],
 "metadata": {
  "kernelspec": {
   "display_name": "R",
   "language": "R",
   "name": "ir"
  },
  "language_info": {
   "codemirror_mode": "r",
   "file_extension": ".r",
   "mimetype": "text/x-r-source",
   "name": "R",
   "pygments_lexer": "r",
   "version": "3.6.1"
  }
 },
 "nbformat": 4,
 "nbformat_minor": 5
}
