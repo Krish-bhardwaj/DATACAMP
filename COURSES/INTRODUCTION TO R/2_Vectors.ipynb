{
 "cells": [
  {
   "cell_type": "markdown",
   "id": "ef16f77d",
   "metadata": {},
   "source": [
    "# 2. Vectors\n",
    "\n",
    "> We take you on a trip to Vegas, where you will learn how to analyze your gambling results using vectors in R. After completing this chapter, you will be able to create vectors in R, name them, select elements from them, and compare different vectors.\n",
    "\n",
    "1. Create a vector\n",
    "- Create a vector (2)\n",
    "- Create a vector (3)\n",
    "- Naming a vector\n",
    "- Naming a vector (2)\n",
    "- Calculating total winnings\n",
    "- Calculating total winnings (2)\n",
    "- Calculating total winnings (3)\n",
    "- Comparing total winnings\n",
    "- Vector selection: the good times\n",
    "- Vector selection: the good times (2)\n",
    "- Vector selection: the good times (3)\n",
    "- Vector selection: the good times (4)\n",
    "- Selection by comparison - Step 1\n",
    "- Selection by comparison - Step 2\n",
    "- Advanced selection\n",
    "\n",
    "---\n",
    "\n"
   ]
  },
  {
   "cell_type": "markdown",
   "id": "3c6f0c92",
   "metadata": {},
   "source": [
    "\n",
    "#### 1. Create a vector\n",
    "\n",
    "Feeling lucky? You better, because this chapter takes you on a trip to the City of Sins, also known as _Statisticians Paradise_!\n",
    "\n",
    "Thanks to R and your new data-analytical skills, you will learn how to uplift your performance at the tables and fire off your career as a professional gambler. This chapter will show how you can easily keep track of your betting progress and how you can do some simple analyses on past actions. Next stop, Vegas Baby… VEGAS!!\n",
    "\n",
    "##### Instructions\n",
    "\n",
    "-   Do you still remember what you have learned in the first chapter? Assign the value `\"Go!\"` to the variable `vegas`. Remember: R is case sensitive!\n"
   ]
  },
  {
   "cell_type": "code",
   "execution_count": 2,
   "id": "8a64b35d",
   "metadata": {},
   "outputs": [],
   "source": [
    "# Define the variable vegas\n",
    "vegas <- \"Go!\""
   ]
  },
  {
   "cell_type": "markdown",
   "id": "7c1e0c88",
   "metadata": {},
   "source": [
    "#### 2. Create a vector (2)\n",
    "\n",
    "Let us focus first!\n",
    "\n",
    "On your way from rags to riches, you will make extensive use of vectors. Vectors are one-dimension arrays that can hold numeric data, character data, or logical data. In other words, a vector is a simple tool to store data. For example, you can store your daily gains and losses in the casinos.\n",
    "\n",
    "In R, you create a vector with the combine function [`c()`](http://www.rdocumentation.org/packages/base/functions/c). You place the vector elements separated by a comma between the parentheses. For example:\n",
    "\n",
    "```\n",
    "numeric_vector <- c(1, 2, 3)\n",
    "character_vector <- c(\"a\", \"b\", \"c\")\n",
    "```\n",
    "\n",
    "Once you have created these vectors in R, you can use them to do calculations.\n",
    "\n",
    "##### Instructions\n",
    "\n",
    "Complete the code such that `boolean_vector` contains the three elements: `TRUE`, `FALSE` and `TRUE` (in that order).\n"
   ]
  },
  {
   "cell_type": "code",
   "execution_count": 1,
   "id": "fc76a053",
   "metadata": {},
   "outputs": [],
   "source": [
    "numeric_vector <- c(1, 10, 49)\n",
    "character_vector <- c(\"a\", \"b\", \"c\")\n",
    "\n",
    "# Complete the code for boolean_vector\n",
    "boolean_vector <- c(TRUE , FALSE , TRUE)"
   ]
  },
  {
   "cell_type": "markdown",
   "id": "d77e6847",
   "metadata": {},
   "source": [
    "#### 3. Create a vector (3)\n",
    "\n",
    "After one week in Las Vegas and still zero Ferraris in your garage, you decide that it is time to start using your data analytical superpowers.\n",
    "\n",
    "Before doing a first analysis, you decide to first collect all the winnings and losses for the last week:\n",
    "\n",
    "For `poker_vector`:\n",
    "\n",
    "-   On Monday you won $140\n",
    "\n",
    "-   Tuesday you lost $50\n",
    "\n",
    "-   Wednesday you won $20\n",
    "\n",
    "-   Thursday you lost $120\n",
    "\n",
    "-   Friday you won $240\n",
    "\n",
    "For `roulette_vector`:\n",
    "\n",
    "-   On Monday you lost $24\n",
    "\n",
    "-   Tuesday you lost $50\n",
    "\n",
    "-   Wednesday you won $100\n",
    "\n",
    "-   Thursday you lost $350\n",
    "\n",
    "-   Friday you won $10\n",
    "\n",
    "You only played poker and roulette, since there was a delegation of mediums that occupied the craps tables. To be able to use this data in R, you decide to create the variables `poker_vector` and `roulette_vector`.\n",
    "\n",
    "##### Instructions\n",
    "\n",
    "Assign the winnings/losses for roulette to the variable `roulette_vector`. You lost $24, then lost $50, won $100, lost $350, and won $10."
   ]
  },
  {
   "cell_type": "code",
   "execution_count": 3,
   "id": "7b65731f",
   "metadata": {},
   "outputs": [],
   "source": [
    "# Poker winnings from Monday to Friday\n",
    "poker_vector <- c(140, -50, 20, -120, 240)\n",
    "\n",
    "# Roulette winnings from Monday to Friday\n",
    "roulette_vector <- c(-24,-50,100,-350,10)"
   ]
  },
  {
   "cell_type": "markdown",
   "id": "9de54000",
   "metadata": {},
   "source": [
    "#### 4. Naming a vector\n",
    "\n",
    "As a data analyst, it is important to have a clear view on the data that you are using. Understanding what each element refers to is therefore essential.\n",
    "\n",
    "In the previous exercise, we created a vector with your winnings over the week. Each vector element refers to a day of the week but it is hard to tell which element belongs to which day. It would be nice if you could show that in the vector itself.\n",
    "\n",
    "You can give a name to the elements of a vector with the `names()` function. Have a look at this example:\n",
    "\n",
    "```\n",
    "some_vector <- c(\"John Doe\", \"poker player\")\n",
    "names(some_vector) <- c(\"Name\", \"Profession\")\n",
    "```\n",
    "\n",
    "This code first creates a vector `some_vector` and then gives the two elements a name. The first element is assigned the name `Name`, while the second element is labeled `Profession`. Printing the contents to the console yields following output:\n",
    "\n",
    "```\n",
    "          Name     Profession \n",
    "    \"John Doe\" \"poker player\" \n",
    "```\n",
    "\n",
    "##### Instructions\n",
    "\n",
    "-   The code in the editor names the elements in `poker_vector` with the days of the week. Add code to do the same thing for `roulette_vector`."
   ]
  },
  {
   "cell_type": "code",
   "execution_count": 4,
   "id": "1563516b",
   "metadata": {},
   "outputs": [],
   "source": [
    "# Poker winnings from Monday to Friday\n",
    "poker_vector <- c(140, -50, 20, -120, 240)\n",
    "\n",
    "# Roulette winnings from Monday to Friday\n",
    "roulette_vector <- c(-24, -50, 100, -350, 10)\n",
    "\n",
    "# Assign days as names of poker_vector\n",
    "names(poker_vector) <- c(\"Monday\", \"Tuesday\", \"Wednesday\", \"Thursday\", \"Friday\")\n",
    "\n",
    "# Assign days as names of roulette_vector\n",
    "names(roulette_vector) <- c(\"Monday\", \"Tuesday\", \"Wednesday\", \"Thursday\", \"Friday\")\n"
   ]
  },
  {
   "cell_type": "markdown",
   "id": "2fd6dfa1",
   "metadata": {},
   "source": [
    "#### 5. Naming a vector (2)\n",
    "\n",
    "If you want to become a good statistician, you have to become lazy. (If you are already lazy, chances are high you are one of those exceptional, natural-born statistical talents.)\n",
    "\n",
    "In the previous exercises you probably experienced that it is boring and frustrating to type and retype information such as the days of the week. However, when you look at it from a higher perspective, there is a more efficient way to do this, namely, to assign the days of the week vector to a **variable**!\n",
    "\n",
    "Just like you did with your poker and roulette returns, you can also create a variable that contains the days of the week. This way you can use and re-use it.\n",
    "\n",
    "##### Instructions\n",
    "\n",
    "-   A variable `days_vector` that contains the days of the week has already been created for you.\n",
    "-   Use `days_vector` to set the names of `poker_vector` and `roulette_vector`.\n"
   ]
  },
  {
   "cell_type": "code",
   "execution_count": 5,
   "id": "e39f7206",
   "metadata": {},
   "outputs": [],
   "source": [
    "# Poker winnings from Monday to Friday\n",
    "poker_vector <- c(140, -50, 20, -120, 240)\n",
    "\n",
    "# Roulette winnings from Monday to Friday\n",
    "roulette_vector <- c(-24, -50, 100, -350, 10)\n",
    "\n",
    "# The variable days_vector\n",
    "days_vector <- c(\"Monday\", \"Tuesday\", \"Wednesday\", \"Thursday\", \"Friday\")\n",
    " \n",
    "# Assign the names of the day to roulette_vector and poker_vector\n",
    "names(poker_vector) <-  days_vector \n",
    "names(roulette_vector) <- days_vector"
   ]
  },
  {
   "cell_type": "markdown",
   "id": "376e10cb",
   "metadata": {},
   "source": [
    "#### 6. Calculating total winnings\n",
    "\n",
    "Now that you have the poker and roulette winnings nicely as named vectors, you can start doing some data analytical magic.\n",
    "\n",
    "You want to find out the following type of information:\n",
    "\n",
    "-   How much has been your overall profit or loss per day of the week?\n",
    "-   Have you lost money over the week in total?\n",
    "-   Are you winning/losing money on poker or on roulette?\n",
    "\n",
    "To get the answers, you have to do arithmetic calculations on vectors.\n",
    "\n",
    "It is important to know that if you sum two vectors in R, it takes the element-wise sum. For example, the following three statements are completely equivalent:\n",
    "\n",
    "```\n",
    "c(1, 2, 3) + c(4, 5, 6)\n",
    "c(1 + 4, 2 + 5, 3 + 6)\n",
    "c(5, 7, 9)\n",
    "```\n",
    "\n",
    "You can also do the calculations with variables that represent vectors:\n",
    "\n",
    "```\n",
    "a <- c(1, 2, 3) \n",
    "b <- c(4, 5, 6)\n",
    "c <- a + b\n",
    "```\n",
    "\n",
    "##### Instructions\n",
    "\n",
    "-   Take the sum of the variables `A_vector` and `B_vector` and assign it to `total_vector`.\n",
    "-   Inspect the result by printing out `total_vector`.\n"
   ]
  },
  {
   "cell_type": "code",
   "execution_count": 6,
   "id": "a4194ae4",
   "metadata": {},
   "outputs": [
    {
     "data": {
      "text/html": [
       "<ol class=list-inline>\n",
       "\t<li>5</li>\n",
       "\t<li>7</li>\n",
       "\t<li>9</li>\n",
       "</ol>\n"
      ],
      "text/latex": [
       "\\begin{enumerate*}\n",
       "\\item 5\n",
       "\\item 7\n",
       "\\item 9\n",
       "\\end{enumerate*}\n"
      ],
      "text/markdown": [
       "1. 5\n",
       "2. 7\n",
       "3. 9\n",
       "\n",
       "\n"
      ],
      "text/plain": [
       "[1] 5 7 9"
      ]
     },
     "metadata": {},
     "output_type": "display_data"
    }
   ],
   "source": [
    "A_vector <- c(1, 2, 3)\n",
    "B_vector <- c(4, 5, 6)\n",
    "\n",
    "# Take the sum of A_vector and B_vector\n",
    "total_vector <- A_vector + B_vector\n",
    "  \n",
    "# Print out total_vector\n",
    "total_vector"
   ]
  },
  {
   "cell_type": "markdown",
   "id": "b67a5ff3",
   "metadata": {},
   "source": [
    "#### 7. Calculating total winnings (2)\n",
    "\n",
    "Now you understand how R does arithmetic with vectors, it is time to get those Ferraris in your garage! First, you need to understand what the overall profit or loss per day of the week was. The total daily profit is the sum of the profit/loss you realized on poker per day, and the profit/loss you realized on roulette per day.\n",
    "\n",
    "In R, this is just the sum of `roulette_vector` and `poker_vector`.\n",
    "\n",
    "##### Instructions\n",
    "\n",
    "Assign to the variable `total_daily` how much you won or lost on each day in total (poker and roulette combined)."
   ]
  },
  {
   "cell_type": "code",
   "execution_count": 7,
   "id": "d5a49830",
   "metadata": {},
   "outputs": [],
   "source": [
    "# Poker and roulette winnings from Monday to Friday:\n",
    "poker_vector <- c(140, -50, 20, -120, 240)\n",
    "roulette_vector <- c(-24, -50, 100, -350, 10)\n",
    "days_vector <- c(\"Monday\", \"Tuesday\", \"Wednesday\", \"Thursday\", \"Friday\")\n",
    "names(poker_vector) <- days_vector\n",
    "names(roulette_vector) <- days_vector\n",
    "\n",
    "# Assign to total_daily how much you won/lost on each day\n",
    "total_daily <- roulette_vector + poker_vector"
   ]
  },
  {
   "cell_type": "markdown",
   "id": "cb79abd9",
   "metadata": {},
   "source": [
    "#### 8. Calculating total winnings (3)\n",
    "\n",
    "Based on the previous analysis, it looks like you had a mix of good and bad days. This is not what your ego expected, and you wonder if there may be a very tiny chance you have lost money over the week in total?\n",
    "\n",
    "A function that helps you to answer this question is [`sum()`](http://www.rdocumentation.org/packages/base/functions/sum). It calculates the sum of all elements of a vector. For example, to calculate the total amount of money you have lost/won with poker you do:\n",
    "\n",
    "```\n",
    "total_poker <- sum(poker_vector)\n",
    "```\n",
    "\n",
    "##### Instructions\n",
    "\n",
    "-   Calculate the total amount of money that you have won/lost with roulette and assign to the variable `total_roulette`.\n",
    "-   Now that you have the totals for roulette and poker, you can easily calculate `total_week` (which is the sum of all gains and losses of the week).\n",
    "-   Print out `total_week`."
   ]
  },
  {
   "cell_type": "code",
   "execution_count": 8,
   "id": "246dff90",
   "metadata": {},
   "outputs": [
    {
     "data": {
      "text/html": [
       "-84"
      ],
      "text/latex": [
       "-84"
      ],
      "text/markdown": [
       "-84"
      ],
      "text/plain": [
       "[1] -84"
      ]
     },
     "metadata": {},
     "output_type": "display_data"
    }
   ],
   "source": [
    "# Poker and roulette winnings from Monday to Friday:\n",
    "poker_vector <- c(140, -50, 20, -120, 240)\n",
    "roulette_vector <- c(-24, -50, 100, -350, 10)\n",
    "days_vector <- c(\"Monday\", \"Tuesday\", \"Wednesday\", \"Thursday\", \"Friday\")\n",
    "names(poker_vector) <- days_vector\n",
    "names(roulette_vector) <- days_vector\n",
    "\n",
    "# Total winnings with poker\n",
    "total_poker <- sum(poker_vector)\n",
    "\n",
    "# Total winnings with roulette\n",
    "total_roulette <-  sum(roulette_vector)\n",
    "\n",
    "# Total winnings overall\n",
    "total_week <- total_roulette + total_poker\n",
    "\n",
    "# Print out total_week\n",
    "total_week"
   ]
  },
  {
   "cell_type": "markdown",
   "id": "1bf27e68",
   "metadata": {},
   "source": [
    "#### 9. Comparing total winnings\n",
    "\n",
    "Oops, it seems like you are losing money. Time to rethink and adapt your strategy! This will require some deeper analysis…\n",
    "\n",
    "After a short brainstorm in your hotel's jacuzzi, you realize that a possible explanation might be that your skills in roulette are not as well developed as your skills in poker. So maybe your total gains in poker are higher (or `>` ) than in roulette.\n",
    "\n",
    "##### Instructions\n",
    "\n",
    "-   Calculate `total_poker` and `total_roulette` as in the previous exercise. Use the `sum()` function twice.\n",
    "-   Check if your total gains in poker are higher than for roulette by using a comparison. Simply print out the result of this comparison. What do you conclude, should you focus on roulette or on poker?\n"
   ]
  },
  {
   "cell_type": "code",
   "execution_count": 9,
   "id": "73eaac42",
   "metadata": {},
   "outputs": [
    {
     "data": {
      "text/html": [
       "TRUE"
      ],
      "text/latex": [
       "TRUE"
      ],
      "text/markdown": [
       "TRUE"
      ],
      "text/plain": [
       "[1] TRUE"
      ]
     },
     "metadata": {},
     "output_type": "display_data"
    }
   ],
   "source": [
    "# Poker and roulette winnings from Monday to Friday:\n",
    "poker_vector <- c(140, -50, 20, -120, 240)\n",
    "roulette_vector <- c(-24, -50, 100, -350, 10)\n",
    "days_vector <- c(\"Monday\", \"Tuesday\", \"Wednesday\", \"Thursday\", \"Friday\")\n",
    "names(poker_vector) <- days_vector\n",
    "names(roulette_vector) <- days_vector\n",
    "\n",
    "# Calculate total gains for poker and roulette\n",
    "total_poker <- sum(poker_vector)\n",
    "total_roulette <-sum(roulette_vector)\n",
    "\n",
    "# Check if you realized higher total gains in poker than in roulette\n",
    "sum(total_poker+total_roulette) > total_roulette"
   ]
  },
  {
   "cell_type": "markdown",
   "id": "2c03763a",
   "metadata": {},
   "source": [
    "#### 10. Vector selection: the good times\n",
    "\n",
    "Your hunch seemed to be right. It appears that the poker game is more your cup of tea than roulette.\n",
    "\n",
    "Another possible route for investigation is your performance at the beginning of the working week compared to the end of it. You did have a couple of Margarita cocktails at the end of the week…\n",
    "\n",
    "To answer that question, you only want to focus on a selection of the `total_vector`. In other words, our goal is to select specific elements of the vector. To select elements of a vector (and later matrices, data frames, …), you can use square brackets. Between the square brackets, you indicate what elements to select. For example, to select the first element of the vector, you type `poker_vector[1]`. To select the second element of the vector, you type `poker_vector[2]`, etc. Notice that the first element in a vector has index 1, not 0 as in many other programming languages.\n",
    "\n",
    "##### Instructions\n",
    "\n",
    "Assign the poker results of Wednesday to the variable `poker_wednesday`."
   ]
  },
  {
   "cell_type": "code",
   "execution_count": 10,
   "id": "81fd7283",
   "metadata": {},
   "outputs": [],
   "source": [
    "# Poker and roulette winnings from Monday to Friday:\n",
    "poker_vector <- c(140, -50, 20, -120, 240)\n",
    "roulette_vector <- c(-24, -50, 100, -350, 10)\n",
    "days_vector <- c(\"Monday\", \"Tuesday\", \"Wednesday\", \"Thursday\", \"Friday\")\n",
    "names(poker_vector) <- days_vector\n",
    "names(roulette_vector) <- days_vector\n",
    "\n",
    "# Define a new variable based on a selection\n",
    "poker_wednesday <- poker_vector[3]"
   ]
  },
  {
   "cell_type": "markdown",
   "id": "c29e7e0b",
   "metadata": {},
   "source": [
    "#### 11. Vector selection: the good times (2)\n",
    "\n",
    "How about analyzing your midweek results?\n",
    "\n",
    "To select multiple elements from a vector, you can add square brackets at the end of it. You can indicate between the brackets what elements should be selected. For example: suppose you want to select the first and the fifth day of the week: use the vector `c(1, 5)` between the square brackets. For example, the code below selects the first and fifth element of `poker_vector`:\n",
    "\n",
    "```\n",
    "poker_vector[c(1, 5)]\n",
    "```\n",
    "\n",
    "##### Instructions\n",
    "\n",
    "Assign the poker results of Tuesday, Wednesday and Thursday to the variable `poker_midweek`."
   ]
  },
  {
   "cell_type": "code",
   "execution_count": 11,
   "id": "27ae9f6d",
   "metadata": {},
   "outputs": [],
   "source": [
    "# Poker and roulette winnings from Monday to Friday:\n",
    "poker_vector <- c(140, -50, 20, -120, 240)\n",
    "roulette_vector <- c(-24, -50, 100, -350, 10)\n",
    "days_vector <- c(\"Monday\", \"Tuesday\", \"Wednesday\", \"Thursday\", \"Friday\")\n",
    "names(poker_vector) <- days_vector\n",
    "names(roulette_vector) <- days_vector\n",
    "\n",
    "# Define a new variable based on a selection\n",
    "poker_midweek <- poker_vector[c(2,3,4)]"
   ]
  },
  {
   "cell_type": "markdown",
   "id": "b4d87704",
   "metadata": {},
   "source": [
    "#### 12. Vector selection: the good times (3)\n",
    "\n",
    "Selecting multiple elements of `poker_vector` with `c(2, 3, 4)` is not very convenient. Many statisticians are lazy people by nature, so they created an easier way to do this: `c(2, 3, 4)` can be abbreviated to`2:4`, which generates a vector with all natural numbers from 2 up to 4.\n",
    "\n",
    "So, another way to find the mid-week results is `poker_vector[2:4]`. Notice how the vector `2:4` is placed between the square brackets to select element 2 up to 4.\n",
    "\n",
    "##### Instructions\n",
    "\n",
    "Assign to `roulette_selection_vector` the roulette results from Tuesday up to Friday; make use of `:` if it makes things easier for you."
   ]
  },
  {
   "cell_type": "code",
   "execution_count": 12,
   "id": "599925a8",
   "metadata": {},
   "outputs": [],
   "source": [
    "# Poker and roulette winnings from Monday to Friday:\n",
    "poker_vector <- c(140, -50, 20, -120, 240)\n",
    "roulette_vector <- c(-24, -50, 100, -350, 10)\n",
    "days_vector <- c(\"Monday\", \"Tuesday\", \"Wednesday\", \"Thursday\", \"Friday\")\n",
    "names(poker_vector) <- days_vector\n",
    "names(roulette_vector) <- days_vector\n",
    "\n",
    "# Define a new variable based on a selection\n",
    "roulette_selection_vector <- roulette_vector[2:5]"
   ]
  },
  {
   "cell_type": "markdown",
   "id": "9964c7b6",
   "metadata": {},
   "source": [
    "#### 13. Vector selection: the good times (4)\n",
    "\n",
    "Another way to tackle the previous exercise is by using the names of the vector elements (Monday, Tuesday, …) instead of their numeric positions. For example,\n",
    "\n",
    "```\n",
    "poker_vector[\"Monday\"]\n",
    "```\n",
    "\n",
    "will select the first element of `poker_vector` since `\"Monday\"` is the name of that first element.\n",
    "\n",
    "Just like you did in the previous exercise with numerics, you can also use the element names to select multiple elements, for example:\n",
    "\n",
    "```\n",
    "poker_vector[c(\"Monday\",\"Tuesday\")]\n",
    "```\n",
    "\n",
    "##### Instructions\n",
    "\n",
    "-   Select the first three elements in `poker_vector` by using their names: `\"Monday\"`, `\"Tuesday\"` and `\"Wednesday\"`. Assign the result of the selection to `poker_start`.\n",
    "-   Calculate the average of the values in `poker_start` with the [`mean()`](http://www.rdocumentation.org/packages/base/functions/mean) function. Simply print out the result so you can inspect it.\n",
    "\n"
   ]
  },
  {
   "cell_type": "code",
   "execution_count": 13,
   "id": "0b51aa60",
   "metadata": {},
   "outputs": [
    {
     "data": {
      "text/html": [
       "36.6666666666667"
      ],
      "text/latex": [
       "36.6666666666667"
      ],
      "text/markdown": [
       "36.6666666666667"
      ],
      "text/plain": [
       "[1] 36.66667"
      ]
     },
     "metadata": {},
     "output_type": "display_data"
    }
   ],
   "source": [
    "# Poker and roulette winnings from Monday to Friday:\n",
    "poker_vector <- c(140, -50, 20, -120, 240)\n",
    "roulette_vector <- c(-24, -50, 100, -350, 10)\n",
    "days_vector <- c(\"Monday\", \"Tuesday\", \"Wednesday\", \"Thursday\", \"Friday\")\n",
    "names(poker_vector) <- days_vector\n",
    "names(roulette_vector) <- days_vector\n",
    "\n",
    "# Select poker results for Monday, Tuesday and Wednesday\n",
    "poker_start <- poker_vector[c(\"Monday\", \"Tuesday\" ,\"Wednesday\")]\n",
    "  \n",
    "# Calculate the average of the elements in poker_start\n",
    "mean(poker_start)"
   ]
  },
  {
   "cell_type": "markdown",
   "id": "716429fa",
   "metadata": {},
   "source": [
    "#### 14. Selection by comparison - Step 1\n",
    "\n",
    "By making use of comparison operators, we can approach the previous question in a more proactive way.\n",
    "\n",
    "The (logical) comparison operators known to R are:\n",
    "\n",
    "-   `<` for less than\n",
    "-   `>` for greater than\n",
    "-   `<=` for less than or equal to\n",
    "-   `>=` for greater than or equal to\n",
    "-   `==` for equal to each other\n",
    "-   `!=` not equal to each other\n",
    "\n",
    "As seen in the previous chapter, stating `6 > 5` returns `TRUE`. The nice thing about R is that you can use these comparison operators also on vectors. For example:\n",
    "\n",
    "```\n",
    "c(4, 5, 6) > 5\n",
    "[1] FALSE FALSE TRUE\n",
    "```\n",
    "\n",
    "This command tests for every element of the vector if the condition stated by the comparison operator is `TRUE` or `FALSE`.\n",
    "\n",
    "##### Instructions\n",
    "\n",
    "-   Check which elements in `poker_vector` are positive (i.e. > 0) and assign this to `selection_vector`.\n",
    "-   Print out `selection_vector` so you can inspect it. The printout tells you whether you won (`TRUE`) or lost (`FALSE`) any money for each day."
   ]
  },
  {
   "cell_type": "code",
   "execution_count": 14,
   "id": "8a3464ea",
   "metadata": {},
   "outputs": [
    {
     "data": {
      "text/html": [
       "<dl class=dl-horizontal>\n",
       "\t<dt>Monday</dt>\n",
       "\t\t<dd>TRUE</dd>\n",
       "\t<dt>Tuesday</dt>\n",
       "\t\t<dd>FALSE</dd>\n",
       "\t<dt>Wednesday</dt>\n",
       "\t\t<dd>TRUE</dd>\n",
       "\t<dt>Thursday</dt>\n",
       "\t\t<dd>FALSE</dd>\n",
       "\t<dt>Friday</dt>\n",
       "\t\t<dd>TRUE</dd>\n",
       "</dl>\n"
      ],
      "text/latex": [
       "\\begin{description*}\n",
       "\\item[Monday] TRUE\n",
       "\\item[Tuesday] FALSE\n",
       "\\item[Wednesday] TRUE\n",
       "\\item[Thursday] FALSE\n",
       "\\item[Friday] TRUE\n",
       "\\end{description*}\n"
      ],
      "text/markdown": [
       "Monday\n",
       ":   TRUETuesday\n",
       ":   FALSEWednesday\n",
       ":   TRUEThursday\n",
       ":   FALSEFriday\n",
       ":   TRUE\n",
       "\n"
      ],
      "text/plain": [
       "   Monday   Tuesday Wednesday  Thursday    Friday \n",
       "     TRUE     FALSE      TRUE     FALSE      TRUE "
      ]
     },
     "metadata": {},
     "output_type": "display_data"
    }
   ],
   "source": [
    "# Poker and roulette winnings from Monday to Friday:\n",
    "poker_vector <- c(140, -50, 20, -120, 240)\n",
    "roulette_vector <- c(-24, -50, 100, -350, 10)\n",
    "days_vector <- c(\"Monday\", \"Tuesday\", \"Wednesday\", \"Thursday\", \"Friday\")\n",
    "names(poker_vector) <- days_vector\n",
    "names(roulette_vector) <- days_vector\n",
    "\n",
    "# Which days did you make money on poker?\n",
    "selection_vector <- poker_vector > 0\n",
    "  \n",
    "# Print out selection_vector\n",
    "selection_vector\n"
   ]
  },
  {
   "cell_type": "markdown",
   "id": "5964907e",
   "metadata": {},
   "source": [
    "#### 15. Selection by comparison - Step 2\n",
    "\n",
    "Working with comparisons will make your data analytical life easier. Instead of selecting a subset of days to investigate yourself (like before), you can simply ask R to return only those days where you realized a positive return for poker.\n",
    "\n",
    "In the previous exercises you used `selection_vector <- poker_vector > 0` to find the days on which you had a positive poker return. Now, you would like to know not only the days on which you won, but also how much you won on those days.\n",
    "\n",
    "You can select the desired elements, by putting `selection_vector` between the square brackets that follow `poker_vector`:\n",
    "\n",
    "```\n",
    "poker_vector[selection_vector]\n",
    "```\n",
    "\n",
    "R knows what to do when you pass a logical vector in square brackets: it will only select the elements that correspond to `TRUE` in `selection_vector`.\n",
    "\n",
    "##### Instructions\n",
    "\n",
    "Use `selection_vector` in square brackets to assign the amounts that you won on the profitable days to the variable `poker_winning_days`.\n"
   ]
  },
  {
   "cell_type": "code",
   "execution_count": 15,
   "id": "d3a4a162",
   "metadata": {},
   "outputs": [],
   "source": [
    "# Poker and roulette winnings from Monday to Friday:\n",
    "poker_vector <- c(140, -50, 20, -120, 240)\n",
    "roulette_vector <- c(-24, -50, 100, -350, 10)\n",
    "days_vector <- c(\"Monday\", \"Tuesday\", \"Wednesday\", \"Thursday\", \"Friday\")\n",
    "names(poker_vector) <- days_vector\n",
    "names(roulette_vector) <- days_vector\n",
    "\n",
    "# Which days did you make money on poker?\n",
    "selection_vector <- poker_vector > 0\n",
    "\n",
    "# Select from poker_vector these days\n",
    "poker_winning_days <- poker_vector[selection_vector]"
   ]
  },
  {
   "cell_type": "markdown",
   "id": "fe1013bd",
   "metadata": {},
   "source": [
    "#### 16. Advanced selection\n",
    "\n",
    "Just like you did for poker, you also want to know those days where you realized a positive return for roulette.\n",
    "\n",
    "##### Instructions\n",
    "\n",
    "-   Create the variable `selection_vector`, this time to see if you made profit with roulette for different days.\n",
    "-   Assign the amounts that you made on the days that you ended positively for roulette to the variable `roulette_winning_days`. This vector thus contains the positive winnings of `roulette_vector`.\n"
   ]
  },
  {
   "cell_type": "code",
   "execution_count": 16,
   "id": "1b1ed7e7",
   "metadata": {},
   "outputs": [],
   "source": [
    "# Poker and roulette winnings from Monday to Friday:\n",
    "poker_vector <- c(140, -50, 20, -120, 240)\n",
    "roulette_vector <- c(-24, -50, 100, -350, 10)\n",
    "days_vector <- c(\"Monday\", \"Tuesday\", \"Wednesday\", \"Thursday\", \"Friday\")\n",
    "names(poker_vector) <- days_vector\n",
    "names(roulette_vector) <- days_vector\n",
    "\n",
    "# Which days did you make money on roulette?\n",
    "selection_vector <- roulette_vector > 0\n",
    "\n",
    "# Select from roulette_vector these days\n",
    "roulette_winning_days <- roulette_vector[selection_vector]"
   ]
  }
 ],
 "metadata": {
  "kernelspec": {
   "display_name": "R",
   "language": "R",
   "name": "ir"
  },
  "language_info": {
   "codemirror_mode": "r",
   "file_extension": ".r",
   "mimetype": "text/x-r-source",
   "name": "R",
   "pygments_lexer": "r",
   "version": "3.6.1"
  }
 },
 "nbformat": 4,
 "nbformat_minor": 5
}
