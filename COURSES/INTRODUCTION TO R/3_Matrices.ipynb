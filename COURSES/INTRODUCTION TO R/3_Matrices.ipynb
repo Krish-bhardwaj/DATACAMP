{
 "cells": [
  {
   "cell_type": "markdown",
   "id": "c48ef3a7",
   "metadata": {},
   "source": [
    "# 3. Matrices\n",
    "\n",
    ">In this chapter, you will learn how to work with matrices in R. By the end of the chapter, you will be able to create matrices and understand how to do basic computations with them. You will analyze the box office numbers of the Star Wars movies and learn how to use matrices in R. May the force be with you!\n",
    "\n",
    "1. What's a matrix?\n",
    "2. Analyze matrices, you shall\n",
    "3. Naming a matrix\n",
    "4. Calculating the worldwide box office\n",
    "5. Adding a column for the Worldwide box office\n",
    "6. Adding a row\n",
    "7. The total box office revenue for the entire saga\n",
    "8. Selection of matrix elements\n",
    "9. A little arithmetic with matrices\n",
    "10. A little arithmetic with matrices (2)"
   ]
  },
  {
   "cell_type": "markdown",
   "id": "010855bd",
   "metadata": {},
   "source": [
    "#### 1. What's a matrix?\n",
    "\n",
    "In R, a matrix is a collection of elements of the same data type (numeric, character, or logical) arranged into a fixed number of rows and columns. Since you are only working with rows and columns, a matrix is called two-dimensional.\n",
    "\n",
    "You can construct a matrix in R with the [`matrix()`](http://www.rdocumentation.org/packages/base/functions/matrix) function. Consider the following example:\n",
    "\n",
    "```\n",
    "matrix(1:9, byrow = TRUE, nrow = 3)\n",
    "```\n",
    "\n",
    "In the [`matrix()`](http://www.rdocumentation.org/packages/base/functions/matrix) function:\n",
    "\n",
    "-   The first argument is the collection of elements that R will arrange into the rows and columns of the matrix. Here, we use `1:9` which is a shortcut for `c(1, 2, 3, 4, 5, 6, 7, 8, 9)`.\n",
    "-   The argument `byrow` indicates that the matrix is filled by the rows. If we want the matrix to be filled by the columns, we just place `byrow = FALSE`.\n",
    "-   The third argument `nrow` indicates that the matrix should have three rows.\n",
    "\n",
    "##### Instructions\n",
    "\n",
    "Construct a matrix with 3 rows containing the numbers 1 up to 9, filled row-wise.\n"
   ]
  },
  {
   "cell_type": "code",
   "execution_count": 1,
   "id": "776b4d19",
   "metadata": {},
   "outputs": [
    {
     "data": {
      "text/html": [
       "<table>\n",
       "<tbody>\n",
       "\t<tr><td>1</td><td>2</td><td>3</td></tr>\n",
       "\t<tr><td>4</td><td>5</td><td>6</td></tr>\n",
       "\t<tr><td>7</td><td>8</td><td>9</td></tr>\n",
       "</tbody>\n",
       "</table>\n"
      ],
      "text/latex": [
       "\\begin{tabular}{lll}\n",
       "\t 1 & 2 & 3\\\\\n",
       "\t 4 & 5 & 6\\\\\n",
       "\t 7 & 8 & 9\\\\\n",
       "\\end{tabular}\n"
      ],
      "text/markdown": [
       "\n",
       "| 1 | 2 | 3 |\n",
       "| 4 | 5 | 6 |\n",
       "| 7 | 8 | 9 |\n",
       "\n"
      ],
      "text/plain": [
       "     [,1] [,2] [,3]\n",
       "[1,] 1    2    3   \n",
       "[2,] 4    5    6   \n",
       "[3,] 7    8    9   "
      ]
     },
     "metadata": {},
     "output_type": "display_data"
    }
   ],
   "source": [
    "# Construct a matrix with 3 rows that contain the numbers 1 up to 9\n",
    "matrix(1:9 , byrow = TRUE , nrow = 3)"
   ]
  },
  {
   "cell_type": "markdown",
   "id": "74cfdceb",
   "metadata": {},
   "source": [
    "#### 2. Analyze matrices, you shall\n",
    "\n",
    "It is now time to get your hands dirty. In the following exercises you will analyze the box office numbers of the Star Wars franchise. May the force be with you!\n",
    "\n",
    "In the editor, three vectors are defined. Each one represents the box office numbers from the first three Star Wars movies. The first element of each vector indicates the US box office revenue, the second element refers to the Non-US box office (source: Wikipedia).\n",
    "\n",
    "In this exercise, you'll combine all these figures into a single vector. Next, you'll build a matrix from this vector.\n",
    "\n",
    "##### Instructions\n",
    "\n",
    "-   Use `c(new_hope, empire_strikes, return_jedi)` to combine the three vectors into one vector. Call this vector `box_office`.\n",
    "-   Construct a matrix with 3 rows, where each row represents a movie. Use the `matrix()` function to do this. The first argument is the vector `box_office`, containing all box office figures. Next, you'll have to specify `nrow = 3` and `byrow = TRUE`. Name the resulting matrix `star_wars_matrix`."
   ]
  },
  {
   "cell_type": "code",
   "execution_count": 2,
   "id": "c8bcdf86",
   "metadata": {},
   "outputs": [],
   "source": [
    "# Box office Star Wars (in millions!)\n",
    "new_hope <- c(460.998, 314.4)\n",
    "empire_strikes <- c(290.475, 247.900)\n",
    "return_jedi <- c(309.306, 165.8)\n",
    "\n",
    "# Create box_office\n",
    "box_office <- c(new_hope, empire_strikes, return_jedi)\n",
    "\n",
    "# Construct star_wars_matrix\n",
    "star_wars_matrix <- matrix(box_office, nrow = 3, byrow = TRUE) "
   ]
  },
  {
   "cell_type": "markdown",
   "id": "69d29863",
   "metadata": {},
   "source": [
    "#### 3. Naming a matrix\n",
    "\n",
    "To help you remember what is stored in `star_wars_matrix`, you would like to add the names of the movies for the rows. Not only does this help you to read the data, but it is also useful to select certain elements from the matrix.\n",
    "\n",
    "Similar to vectors, you can add names for the rows and the columns of a matrix\n",
    "\n",
    "```\n",
    "rownames(my_matrix) <- row_names_vector\n",
    "colnames(my_matrix) <- col_names_vector\n",
    "```\n",
    "\n",
    "We went ahead and prepared two vectors for you: `region`, and `titles`. You will need these vectors to name the columns and rows of `star_wars_matrix`, respectively.\n",
    "\n",
    "##### Instructions\n",
    "\n",
    "-   Use `colnames()` to name the columns of `star_wars_matrix` with the `region` vector.\n",
    "-   Use `rownames()` to name the rows of `star_wars_matrix` with the `titles` vector.\n",
    "-   Print out `star_wars_matrix` to see the result of your work.\n"
   ]
  },
  {
   "cell_type": "code",
   "execution_count": 3,
   "id": "324ce98d",
   "metadata": {},
   "outputs": [
    {
     "data": {
      "text/html": [
       "<table>\n",
       "<thead><tr><th></th><th scope=col>US</th><th scope=col>non-US</th></tr></thead>\n",
       "<tbody>\n",
       "\t<tr><th scope=row>A New Hope</th><td>460.998</td><td>314.4  </td></tr>\n",
       "\t<tr><th scope=row>The Empire Strikes Back</th><td>290.475</td><td>247.9  </td></tr>\n",
       "\t<tr><th scope=row>Return of the Jedi</th><td>309.306</td><td>165.8  </td></tr>\n",
       "</tbody>\n",
       "</table>\n"
      ],
      "text/latex": [
       "\\begin{tabular}{r|ll}\n",
       "  & US & non-US\\\\\n",
       "\\hline\n",
       "\tA New Hope & 460.998 & 314.4  \\\\\n",
       "\tThe Empire Strikes Back & 290.475 & 247.9  \\\\\n",
       "\tReturn of the Jedi & 309.306 & 165.8  \\\\\n",
       "\\end{tabular}\n"
      ],
      "text/markdown": [
       "\n",
       "| <!--/--> | US | non-US |\n",
       "|---|---|---|\n",
       "| A New Hope | 460.998 | 314.4   |\n",
       "| The Empire Strikes Back | 290.475 | 247.9   |\n",
       "| Return of the Jedi | 309.306 | 165.8   |\n",
       "\n"
      ],
      "text/plain": [
       "                        US      non-US\n",
       "A New Hope              460.998 314.4 \n",
       "The Empire Strikes Back 290.475 247.9 \n",
       "Return of the Jedi      309.306 165.8 "
      ]
     },
     "metadata": {},
     "output_type": "display_data"
    }
   ],
   "source": [
    "# Box office Star Wars (in millions!)\n",
    "new_hope <- c(460.998, 314.4)\n",
    "empire_strikes <- c(290.475, 247.900)\n",
    "return_jedi <- c(309.306, 165.8)\n",
    "# Construct matrix\n",
    "star_wars_matrix <- matrix(c(new_hope, empire_strikes, return_jedi), nrow = 3, byrow = TRUE)\n",
    "# Vectors region and titles, used for naming\n",
    "region <- c(\"US\", \"non-US\")\n",
    "titles <- c(\"A New Hope\", \"The Empire Strikes Back\", \"Return of the Jedi\")\n",
    "# Name the columns with region\n",
    "colnames(star_wars_matrix) <- region\n",
    "# Name the rows with titles\n",
    "rownames(star_wars_matrix) <- titles\n",
    "# Print out star_wars_matrix\n",
    "star_wars_matrix"
   ]
  },
  {
   "cell_type": "markdown",
   "id": "40c36418",
   "metadata": {},
   "source": [
    "#### 4. Calculating the worldwide box office\n",
    "The single most important thing for a movie in order to become an instant legend in Tinseltown is its worldwide box office figures.\n",
    "\n",
    "To calculate the total box office revenue for the three Star Wars movies, you have to take the sum of the US revenue column and the non-US revenue column.\n",
    "\n",
    "In R, the function [`rowSums()`](http://www.rdocumentation.org/packages/base/functions/colSums) conveniently calculates the totals for each row of a matrix. This function creates a new vector:\n",
    "\n",
    "```\n",
    "rowSums(my_matrix)\n",
    "```\n",
    "\n",
    "##### Instructions\n",
    "Calculate the worldwide box office figures for the three movies and put these in the vector named `worldwide_vector`.\n"
   ]
  },
  {
   "cell_type": "code",
   "execution_count": 4,
   "id": "82436e8a",
   "metadata": {},
   "outputs": [],
   "source": [
    "# Construct star_wars_matrix\n",
    "box_office <- c(460.998, 314.4, 290.475, 247.900, 309.306, 165.8)\n",
    "region <- c(\"US\", \"non-US\")\n",
    "titles <- c(\"A New Hope\", \n",
    "            \"The Empire Strikes Back\", \n",
    "            \"Return of the Jedi\")\n",
    "               \n",
    "star_wars_matrix <- matrix(box_office, \n",
    "                      nrow = 3, byrow = TRUE,\n",
    "                      dimnames = list(titles, region))\n",
    "# Calculate worldwide box office figures\n",
    "worldwide_vector <- rowSums(star_wars_matrix)"
   ]
  },
  {
   "cell_type": "markdown",
   "id": "2e68db67",
   "metadata": {},
   "source": [
    "#### 5. Adding a column for the Worldwide box office\n",
    "In the previous exercise you calculated the vector that contained the worldwide box office receipt for each of the three Star Wars movies. However, this vector is not yet part of `star_wars_matrix`.\n",
    "\n",
    "You can add a column or multiple columns to a matrix with the [`cbind()`](http://www.rdocumentation.org/packages/base/functions/cbind) function, which merges matrices and/or vectors together by column. For example:\n",
    "\n",
    "```\n",
    "big_matrix <- cbind(matrix1, matrix2, vector1 ...)\n",
    "```\n",
    "\n",
    "##### Instructions\n",
    "\n",
    "Add `worldwide_vector` as a new column to the `star_wars_matrix` and assign the result to `all_wars_matrix`. Use the [`cbind()`](http://www.rdocumentation.org/packages/base/functions/cbind) function.\n"
   ]
  },
  {
   "cell_type": "code",
   "execution_count": 5,
   "id": "46a4bfc2",
   "metadata": {},
   "outputs": [],
   "source": [
    "# Construct star_wars_matrix\n",
    "box_office <- c(460.998, 314.4, 290.475, 247.900, 309.306, 165.8)\n",
    "region <- c(\"US\", \"non-US\")\n",
    "titles <- c(\"A New Hope\", \n",
    "            \"The Empire Strikes Back\", \n",
    "            \"Return of the Jedi\")\n",
    "               \n",
    "star_wars_matrix <- matrix(box_office, \n",
    "                      nrow = 3, byrow = TRUE,\n",
    "                      dimnames = list(titles, region))\n",
    "# The worldwide box office figures\n",
    "worldwide_vector <- rowSums(star_wars_matrix)\n",
    "# Bind the new variable worldwide_vector as a column to star_wars_matrix\n",
    "all_wars_matrix <- cbind(star_wars_matrix, worldwide_vector)"
   ]
  },
  {
   "cell_type": "markdown",
   "id": "e5022cd3",
   "metadata": {},
   "source": [
    "#### 6. Adding a row\n",
    "Just like every action has a reaction, every [`cbind()`](http://www.rdocumentation.org/packages/base/functions/cbind) has an [`rbind()`](http://www.rdocumentation.org/packages/base/functions/cbind). (We admit, we are pretty bad with metaphors.)\n",
    "\n",
    "Your R workspace, where all variables you defined 'live' ([check out what a workspace is](http://www.statmethods.net/interface/workspace.html)), has already been initialized and contains two matrices:\n",
    "\n",
    "-   `star_wars_matrix` that we have used all along, with data on the original trilogy,\n",
    "-   `star_wars_matrix2`, with similar data for the prequels trilogy.\n",
    "\n",
    "Explore these matrices in the console if you want to have a closer look. If you want to check out the contents of the workspace, you can type `ls()` in the console.\n",
    "\n",
    "##### Instructions\n",
    "\n",
    "Use `rbind()` to paste together `star_wars_matrix` and `star_wars_matrix2`, in this order. Assign the resulting matrix to `all_wars_matrix`."
   ]
  },
  {
   "cell_type": "code",
   "execution_count": 6,
   "id": "27dde010",
   "metadata": {},
   "outputs": [
    {
     "data": {
      "text/html": [
       "<table>\n",
       "<thead><tr><th></th><th scope=col>US</th><th scope=col>non-US</th></tr></thead>\n",
       "<tbody>\n",
       "\t<tr><th scope=row>A New Hope</th><td>460.998</td><td>314.4  </td></tr>\n",
       "\t<tr><th scope=row>The Empire Strikes Back</th><td>290.475</td><td>247.9  </td></tr>\n",
       "\t<tr><th scope=row>Return of the Jedi</th><td>309.306</td><td>165.8  </td></tr>\n",
       "</tbody>\n",
       "</table>\n"
      ],
      "text/latex": [
       "\\begin{tabular}{r|ll}\n",
       "  & US & non-US\\\\\n",
       "\\hline\n",
       "\tA New Hope & 460.998 & 314.4  \\\\\n",
       "\tThe Empire Strikes Back & 290.475 & 247.9  \\\\\n",
       "\tReturn of the Jedi & 309.306 & 165.8  \\\\\n",
       "\\end{tabular}\n"
      ],
      "text/markdown": [
       "\n",
       "| <!--/--> | US | non-US |\n",
       "|---|---|---|\n",
       "| A New Hope | 460.998 | 314.4   |\n",
       "| The Empire Strikes Back | 290.475 | 247.9   |\n",
       "| Return of the Jedi | 309.306 | 165.8   |\n",
       "\n"
      ],
      "text/plain": [
       "                        US      non-US\n",
       "A New Hope              460.998 314.4 \n",
       "The Empire Strikes Back 290.475 247.9 \n",
       "Return of the Jedi      309.306 165.8 "
      ]
     },
     "metadata": {},
     "output_type": "display_data"
    },
    {
     "ename": "ERROR",
     "evalue": "Error in eval(expr, envir, enclos): object 'star_wars_matrix2' not found\n",
     "output_type": "error",
     "traceback": [
      "Error in eval(expr, envir, enclos): object 'star_wars_matrix2' not found\nTraceback:\n"
     ]
    }
   ],
   "source": [
    "# star_wars_matrix and star_wars_matrix2 are available in your workspace\n",
    "star_wars_matrix  \n",
    "star_wars_matrix2 \n",
    "# Combine both Star Wars trilogies in one matrix\n",
    "all_wars_matrix <- rbind(star_wars_matrix, star_wars_matrix2)"
   ]
  },
  {
   "cell_type": "markdown",
   "id": "f6d0a6d9",
   "metadata": {},
   "source": [
    "#### 7. The total box office revenue for the entire saga\n",
    "Just like [`cbind()`](http://www.rdocumentation.org/packages/base/functions/cbind) has [`rbind()`](http://www.rdocumentation.org/packages/base/functions/cbind), [`colSums()`](http://www.rdocumentation.org/packages/base/functions/colSums) has [`rowSums()`](http://www.rdocumentation.org/packages/base/functions/colSums). Your R workspace already contains the `all_wars_matrix` that you constructed in the previous exercise; type `all_wars_matrix` to have another look. Let's now calculate the total box office revenue for the entire saga.\n",
    "\n",
    "##### Instructions\n",
    "\n",
    "-   Calculate the total revenue for the US and the non-US region and assign `total_revenue_vector`. You can use the [`colSums()`](http://www.rdocumentation.org/packages/base/functions/colSums) function.\n",
    "-   Print out `total_revenue_vector` to have a look at the results."
   ]
  },
  {
   "cell_type": "code",
   "execution_count": 7,
   "id": "904075e6",
   "metadata": {},
   "outputs": [
    {
     "data": {
      "text/html": [
       "<table>\n",
       "<thead><tr><th></th><th scope=col>US</th><th scope=col>non-US</th><th scope=col>worldwide_vector</th></tr></thead>\n",
       "<tbody>\n",
       "\t<tr><th scope=row>A New Hope</th><td>460.998</td><td>314.4  </td><td>775.398</td></tr>\n",
       "\t<tr><th scope=row>The Empire Strikes Back</th><td>290.475</td><td>247.9  </td><td>538.375</td></tr>\n",
       "\t<tr><th scope=row>Return of the Jedi</th><td>309.306</td><td>165.8  </td><td>475.106</td></tr>\n",
       "</tbody>\n",
       "</table>\n"
      ],
      "text/latex": [
       "\\begin{tabular}{r|lll}\n",
       "  & US & non-US & worldwide\\_vector\\\\\n",
       "\\hline\n",
       "\tA New Hope & 460.998 & 314.4   & 775.398\\\\\n",
       "\tThe Empire Strikes Back & 290.475 & 247.9   & 538.375\\\\\n",
       "\tReturn of the Jedi & 309.306 & 165.8   & 475.106\\\\\n",
       "\\end{tabular}\n"
      ],
      "text/markdown": [
       "\n",
       "| <!--/--> | US | non-US | worldwide_vector |\n",
       "|---|---|---|---|\n",
       "| A New Hope | 460.998 | 314.4   | 775.398 |\n",
       "| The Empire Strikes Back | 290.475 | 247.9   | 538.375 |\n",
       "| Return of the Jedi | 309.306 | 165.8   | 475.106 |\n",
       "\n"
      ],
      "text/plain": [
       "                        US      non-US worldwide_vector\n",
       "A New Hope              460.998 314.4  775.398         \n",
       "The Empire Strikes Back 290.475 247.9  538.375         \n",
       "Return of the Jedi      309.306 165.8  475.106         "
      ]
     },
     "metadata": {},
     "output_type": "display_data"
    },
    {
     "data": {
      "text/html": [
       "<dl class=dl-horizontal>\n",
       "\t<dt>US</dt>\n",
       "\t\t<dd>1060.779</dd>\n",
       "\t<dt>non-US</dt>\n",
       "\t\t<dd>728.1</dd>\n",
       "\t<dt>worldwide_vector</dt>\n",
       "\t\t<dd>1788.879</dd>\n",
       "</dl>\n"
      ],
      "text/latex": [
       "\\begin{description*}\n",
       "\\item[US] 1060.779\n",
       "\\item[non-US] 728.1\n",
       "\\item[worldwide\\textbackslash{}\\_vector] 1788.879\n",
       "\\end{description*}\n"
      ],
      "text/markdown": [
       "US\n",
       ":   1060.779non-US\n",
       ":   728.1worldwide_vector\n",
       ":   1788.879\n",
       "\n"
      ],
      "text/plain": [
       "              US           non-US worldwide_vector \n",
       "        1060.779          728.100         1788.879 "
      ]
     },
     "metadata": {},
     "output_type": "display_data"
    }
   ],
   "source": [
    "# all_wars_matrix is available in your workspace\n",
    "all_wars_matrix\n",
    "# Total revenue for US and non-US\n",
    "total_revenue_vector <- colSums(all_wars_matrix)\n",
    "# Print out total_revenue_vector\n",
    "total_revenue_vector"
   ]
  },
  {
   "cell_type": "markdown",
   "id": "c37fad33",
   "metadata": {},
   "source": [
    "#### 8. Selection of matrix elements\n",
    "Similar to vectors, you can use the square brackets `[ ]` to select one or multiple elements from a matrix. Whereas vectors have one dimension, matrices have two dimensions. You should therefore use a comma to separate the rows you want to select from the columns. For example:\n",
    "\n",
    "-   `my_matrix[1,2]` selects the element at the first row and second column.\n",
    "-   `my_matrix[1:3,2:4]` results in a matrix with the data on the rows 1, 2, 3 and columns 2, 3, 4.\n",
    "\n",
    "If you want to select all elements of a row or a column, no number is needed before or after the comma, respectively:\n",
    "\n",
    "-   `my_matrix[,1]` selects all elements of the first column.\n",
    "-   `my_matrix[1,]` selects all elements of the first row.\n",
    "\n",
    "Back to Star Wars with this newly acquired knowledge! As in the previous exercise, `all_wars_matrix` is already available in your workspace.\n",
    "\n",
    "##### Instructions\n",
    "\n",
    "-   Select the non-US revenue for all movies (the entire second column of `all_wars_matrix`), store the result as `non_us_all`.\n",
    "-   Use `mean()` on `non_us_all` to calculate the average non-US revenue for all movies. Simply print out the result.\n",
    "-   This time, select the non-US revenue for the first two movies in `all_wars_matrix`. Store the result as `non_us_some`.\n",
    "-   Use `mean()` again to print out the average of the values in `non_us_some`."
   ]
  },
  {
   "cell_type": "code",
   "execution_count": 8,
   "id": "83eefccb",
   "metadata": {},
   "outputs": [
    {
     "data": {
      "text/html": [
       "<table>\n",
       "<thead><tr><th></th><th scope=col>US</th><th scope=col>non-US</th><th scope=col>worldwide_vector</th></tr></thead>\n",
       "<tbody>\n",
       "\t<tr><th scope=row>A New Hope</th><td>460.998</td><td>314.4  </td><td>775.398</td></tr>\n",
       "\t<tr><th scope=row>The Empire Strikes Back</th><td>290.475</td><td>247.9  </td><td>538.375</td></tr>\n",
       "\t<tr><th scope=row>Return of the Jedi</th><td>309.306</td><td>165.8  </td><td>475.106</td></tr>\n",
       "</tbody>\n",
       "</table>\n"
      ],
      "text/latex": [
       "\\begin{tabular}{r|lll}\n",
       "  & US & non-US & worldwide\\_vector\\\\\n",
       "\\hline\n",
       "\tA New Hope & 460.998 & 314.4   & 775.398\\\\\n",
       "\tThe Empire Strikes Back & 290.475 & 247.9   & 538.375\\\\\n",
       "\tReturn of the Jedi & 309.306 & 165.8   & 475.106\\\\\n",
       "\\end{tabular}\n"
      ],
      "text/markdown": [
       "\n",
       "| <!--/--> | US | non-US | worldwide_vector |\n",
       "|---|---|---|---|\n",
       "| A New Hope | 460.998 | 314.4   | 775.398 |\n",
       "| The Empire Strikes Back | 290.475 | 247.9   | 538.375 |\n",
       "| Return of the Jedi | 309.306 | 165.8   | 475.106 |\n",
       "\n"
      ],
      "text/plain": [
       "                        US      non-US worldwide_vector\n",
       "A New Hope              460.998 314.4  775.398         \n",
       "The Empire Strikes Back 290.475 247.9  538.375         \n",
       "Return of the Jedi      309.306 165.8  475.106         "
      ]
     },
     "metadata": {},
     "output_type": "display_data"
    },
    {
     "data": {
      "text/html": [
       "242.7"
      ],
      "text/latex": [
       "242.7"
      ],
      "text/markdown": [
       "242.7"
      ],
      "text/plain": [
       "[1] 242.7"
      ]
     },
     "metadata": {},
     "output_type": "display_data"
    },
    {
     "data": {
      "text/html": [
       "281.15"
      ],
      "text/latex": [
       "281.15"
      ],
      "text/markdown": [
       "281.15"
      ],
      "text/plain": [
       "[1] 281.15"
      ]
     },
     "metadata": {},
     "output_type": "display_data"
    }
   ],
   "source": [
    "# all_wars_matrix is available in your workspace\n",
    "all_wars_matrix\n",
    "# Select the non-US revenue for all movies\n",
    "non_us_all <- all_wars_matrix[,2]\n",
    "  \n",
    "# Average non-US revenue\n",
    "mean(non_us_all)\n",
    "  \n",
    "# Select the non-US revenue for first two movies\n",
    "non_us_some <- all_wars_matrix[1:2,2]\n",
    "  \n",
    "# Average non-US revenue for first two movies\n",
    "mean(non_us_some)"
   ]
  },
  {
   "cell_type": "markdown",
   "id": "2645a179",
   "metadata": {},
   "source": [
    "#### 9. A little arithmetic with matrices\n",
    "\n",
    "Similar to what you have learned with vectors, the standard operators like `+`, `-`, `/`, `*`, etc. work in an element-wise way on matrices in R.\n",
    "\n",
    "For example, `2 * my_matrix` multiplies each element of `my_matrix` by two.\n",
    "\n",
    "As a newly-hired data analyst for Lucasfilm, it is your job to find out how many visitors went to each movie for each geographical area. You already have the total revenue figures in `all_wars_matrix`. Assume that the price of a ticket was 5 dollars. Simply dividing the box office numbers by this ticket price gives you the number of visitors.\n",
    "\n",
    "##### Instructions\n",
    "-   Divide `all_wars_matrix` by 5, giving you the number of visitors in millions. Assign the resulting matrix to `visitors`.\n",
    "-   Print out `visitors` so you can have a look."
   ]
  },
  {
   "cell_type": "code",
   "execution_count": 9,
   "id": "6840d815",
   "metadata": {},
   "outputs": [
    {
     "data": {
      "text/html": [
       "<table>\n",
       "<thead><tr><th></th><th scope=col>US</th><th scope=col>non-US</th><th scope=col>worldwide_vector</th></tr></thead>\n",
       "<tbody>\n",
       "\t<tr><th scope=row>A New Hope</th><td>460.998</td><td>314.4  </td><td>775.398</td></tr>\n",
       "\t<tr><th scope=row>The Empire Strikes Back</th><td>290.475</td><td>247.9  </td><td>538.375</td></tr>\n",
       "\t<tr><th scope=row>Return of the Jedi</th><td>309.306</td><td>165.8  </td><td>475.106</td></tr>\n",
       "</tbody>\n",
       "</table>\n"
      ],
      "text/latex": [
       "\\begin{tabular}{r|lll}\n",
       "  & US & non-US & worldwide\\_vector\\\\\n",
       "\\hline\n",
       "\tA New Hope & 460.998 & 314.4   & 775.398\\\\\n",
       "\tThe Empire Strikes Back & 290.475 & 247.9   & 538.375\\\\\n",
       "\tReturn of the Jedi & 309.306 & 165.8   & 475.106\\\\\n",
       "\\end{tabular}\n"
      ],
      "text/markdown": [
       "\n",
       "| <!--/--> | US | non-US | worldwide_vector |\n",
       "|---|---|---|---|\n",
       "| A New Hope | 460.998 | 314.4   | 775.398 |\n",
       "| The Empire Strikes Back | 290.475 | 247.9   | 538.375 |\n",
       "| Return of the Jedi | 309.306 | 165.8   | 475.106 |\n",
       "\n"
      ],
      "text/plain": [
       "                        US      non-US worldwide_vector\n",
       "A New Hope              460.998 314.4  775.398         \n",
       "The Empire Strikes Back 290.475 247.9  538.375         \n",
       "Return of the Jedi      309.306 165.8  475.106         "
      ]
     },
     "metadata": {},
     "output_type": "display_data"
    },
    {
     "data": {
      "text/html": [
       "<table>\n",
       "<thead><tr><th></th><th scope=col>US</th><th scope=col>non-US</th><th scope=col>worldwide_vector</th></tr></thead>\n",
       "<tbody>\n",
       "\t<tr><th scope=row>A New Hope</th><td>92.1996 </td><td>62.88   </td><td>155.0796</td></tr>\n",
       "\t<tr><th scope=row>The Empire Strikes Back</th><td>58.0950 </td><td>49.58   </td><td>107.6750</td></tr>\n",
       "\t<tr><th scope=row>Return of the Jedi</th><td>61.8612 </td><td>33.16   </td><td> 95.0212</td></tr>\n",
       "</tbody>\n",
       "</table>\n"
      ],
      "text/latex": [
       "\\begin{tabular}{r|lll}\n",
       "  & US & non-US & worldwide\\_vector\\\\\n",
       "\\hline\n",
       "\tA New Hope & 92.1996  & 62.88    & 155.0796\\\\\n",
       "\tThe Empire Strikes Back & 58.0950  & 49.58    & 107.6750\\\\\n",
       "\tReturn of the Jedi & 61.8612  & 33.16    &  95.0212\\\\\n",
       "\\end{tabular}\n"
      ],
      "text/markdown": [
       "\n",
       "| <!--/--> | US | non-US | worldwide_vector |\n",
       "|---|---|---|---|\n",
       "| A New Hope | 92.1996  | 62.88    | 155.0796 |\n",
       "| The Empire Strikes Back | 58.0950  | 49.58    | 107.6750 |\n",
       "| Return of the Jedi | 61.8612  | 33.16    |  95.0212 |\n",
       "\n"
      ],
      "text/plain": [
       "                        US      non-US worldwide_vector\n",
       "A New Hope              92.1996 62.88  155.0796        \n",
       "The Empire Strikes Back 58.0950 49.58  107.6750        \n",
       "Return of the Jedi      61.8612 33.16   95.0212        "
      ]
     },
     "metadata": {},
     "output_type": "display_data"
    }
   ],
   "source": [
    "# all_wars_matrix is available in your workspace\n",
    "all_wars_matrix\n",
    "# Estimate the visitors\n",
    "visitors <- all_wars_matrix / 5\n",
    "# Print the estimate to the console\n",
    "visitors"
   ]
  },
  {
   "cell_type": "markdown",
   "id": "c9a99617",
   "metadata": {},
   "source": [
    "#### 10. A little arithmetic with matrices (2)\n",
    "Just like `2 * my_matrix` multiplied every element of `my_matrix` by two, `my_matrix1 * my_matrix2` creates a matrix where each element is the product of the corresponding elements in `my_matrix1` and `my_matrix2`.\n",
    "\n",
    "After looking at the result of the previous exercise, big boss Lucas points out that the ticket prices went up over time. He asks to redo the analysis based on the prices you can find in `ticket_prices_matrix` (source: imagination).\n",
    "\n",
    "_Those who are familiar with matrices should note that this is not the standard matrix multiplication for which you should use `%*%` in R._\n",
    "\n",
    "##### Instructions\n",
    "-   Divide `all_wars_matrix` by `ticket_prices_matrix` to get the estimated number of US and non-US visitors for the six movies. Assign the result to `visitors`.\n",
    "-   From the `visitors` matrix, select the entire first column, representing the number of visitors in the US. Store this selection as `us_visitors`.\n",
    "-   Calculate the average number of US visitors; print out the result."
   ]
  },
  {
   "cell_type": "code",
   "execution_count": 10,
   "id": "7742dac6",
   "metadata": {},
   "outputs": [
    {
     "data": {
      "text/html": [
       "<table>\n",
       "<thead><tr><th></th><th scope=col>US</th><th scope=col>non-US</th><th scope=col>worldwide_vector</th></tr></thead>\n",
       "<tbody>\n",
       "\t<tr><th scope=row>A New Hope</th><td>460.998</td><td>314.4  </td><td>775.398</td></tr>\n",
       "\t<tr><th scope=row>The Empire Strikes Back</th><td>290.475</td><td>247.9  </td><td>538.375</td></tr>\n",
       "\t<tr><th scope=row>Return of the Jedi</th><td>309.306</td><td>165.8  </td><td>475.106</td></tr>\n",
       "</tbody>\n",
       "</table>\n"
      ],
      "text/latex": [
       "\\begin{tabular}{r|lll}\n",
       "  & US & non-US & worldwide\\_vector\\\\\n",
       "\\hline\n",
       "\tA New Hope & 460.998 & 314.4   & 775.398\\\\\n",
       "\tThe Empire Strikes Back & 290.475 & 247.9   & 538.375\\\\\n",
       "\tReturn of the Jedi & 309.306 & 165.8   & 475.106\\\\\n",
       "\\end{tabular}\n"
      ],
      "text/markdown": [
       "\n",
       "| <!--/--> | US | non-US | worldwide_vector |\n",
       "|---|---|---|---|\n",
       "| A New Hope | 460.998 | 314.4   | 775.398 |\n",
       "| The Empire Strikes Back | 290.475 | 247.9   | 538.375 |\n",
       "| Return of the Jedi | 309.306 | 165.8   | 475.106 |\n",
       "\n"
      ],
      "text/plain": [
       "                        US      non-US worldwide_vector\n",
       "A New Hope              460.998 314.4  775.398         \n",
       "The Empire Strikes Back 290.475 247.9  538.375         \n",
       "Return of the Jedi      309.306 165.8  475.106         "
      ]
     },
     "metadata": {},
     "output_type": "display_data"
    },
    {
     "ename": "ERROR",
     "evalue": "Error in eval(expr, envir, enclos): object 'ticket_prices_matrix' not found\n",
     "output_type": "error",
     "traceback": [
      "Error in eval(expr, envir, enclos): object 'ticket_prices_matrix' not found\nTraceback:\n"
     ]
    }
   ],
   "source": [
    "# all_wars_matrix and ticket_prices_matrix are available in your workspace\n",
    "all_wars_matrix\n",
    "ticket_prices_matrix\n",
    "# Estimated number of visitors\n",
    "visitors <- all_wars_matrix / ticket_prices_matrix\n",
    "# US visitors\n",
    "us_visitors <- visitors[ ,1]\n",
    "# Average number of US visitors\n",
    "mean(us_visitors)\n"
   ]
  }
 ],
 "metadata": {
  "kernelspec": {
   "display_name": "R",
   "language": "R",
   "name": "ir"
  },
  "language_info": {
   "codemirror_mode": "r",
   "file_extension": ".r",
   "mimetype": "text/x-r-source",
   "name": "R",
   "pygments_lexer": "r",
   "version": "3.6.1"
  }
 },
 "nbformat": 4,
 "nbformat_minor": 5
}
